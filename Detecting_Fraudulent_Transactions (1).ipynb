{
  "cells": [
    {
      "cell_type": "markdown",
      "metadata": {
        "id": "KwyGhEf3jWJS"
      },
      "source": [
        "#Detecting Fraudulent Transactions\n"
      ]
    },
    {
      "cell_type": "markdown",
      "metadata": {
        "id": "E4zsLM6ak2Pj"
      },
      "source": [
        "#importing required libraries"
      ]
    },
    {
      "cell_type": "code",
      "execution_count": null,
      "metadata": {
        "id": "hp8WRm6UxJDa"
      },
      "outputs": [],
      "source": [
        "import numpy as np\n",
        "import pandas as pd\n",
        "import seaborn as sns\n",
        "import matplotlib.pyplot as plt\n",
        "%matplotlib inline\n",
        "import warnings\n",
        "warnings.filterwarnings('ignore')"
      ]
    },
    {
      "cell_type": "markdown",
      "metadata": {
        "id": "6IozDxzPk6dS"
      },
      "source": [
        "#reading the dataset"
      ]
    },
    {
      "cell_type": "code",
      "execution_count": null,
      "metadata": {
        "colab": {
          "base_uri": "https://localhost:8080/",
          "height": 206
        },
        "id": "4xwSIj-uxJ_d",
        "outputId": "76aed19e-ca56-4aef-ab70-1530d859264e"
      },
      "outputs": [
        {
          "output_type": "execute_result",
          "data": {
            "text/plain": [
              "   accountAgeDays  numItems  localTime paymentMethod  paymentMethodAgeDays  \\\n",
              "0              29         1   4.745402        paypal             28.204861   \n",
              "1             725         1   4.742303   storecredit              0.000000   \n",
              "2             845         1   4.921318    creditcard              0.000000   \n",
              "3             503         1   4.886641    creditcard              0.000000   \n",
              "4            2000         1   5.040929    creditcard              0.000000   \n",
              "\n",
              "      Category  isWeekend  label  \n",
              "0     shopping        0.0      0  \n",
              "1  electronics        0.0      0  \n",
              "2         food        1.0      0  \n",
              "3  electronics        1.0      0  \n",
              "4     shopping        0.0      0  "
            ],
            "text/html": [
              "\n",
              "  <div id=\"df-9dd3188b-894d-4f1b-8dd3-b4d95694c6ad\" class=\"colab-df-container\">\n",
              "    <div>\n",
              "<style scoped>\n",
              "    .dataframe tbody tr th:only-of-type {\n",
              "        vertical-align: middle;\n",
              "    }\n",
              "\n",
              "    .dataframe tbody tr th {\n",
              "        vertical-align: top;\n",
              "    }\n",
              "\n",
              "    .dataframe thead th {\n",
              "        text-align: right;\n",
              "    }\n",
              "</style>\n",
              "<table border=\"1\" class=\"dataframe\">\n",
              "  <thead>\n",
              "    <tr style=\"text-align: right;\">\n",
              "      <th></th>\n",
              "      <th>accountAgeDays</th>\n",
              "      <th>numItems</th>\n",
              "      <th>localTime</th>\n",
              "      <th>paymentMethod</th>\n",
              "      <th>paymentMethodAgeDays</th>\n",
              "      <th>Category</th>\n",
              "      <th>isWeekend</th>\n",
              "      <th>label</th>\n",
              "    </tr>\n",
              "  </thead>\n",
              "  <tbody>\n",
              "    <tr>\n",
              "      <th>0</th>\n",
              "      <td>29</td>\n",
              "      <td>1</td>\n",
              "      <td>4.745402</td>\n",
              "      <td>paypal</td>\n",
              "      <td>28.204861</td>\n",
              "      <td>shopping</td>\n",
              "      <td>0.0</td>\n",
              "      <td>0</td>\n",
              "    </tr>\n",
              "    <tr>\n",
              "      <th>1</th>\n",
              "      <td>725</td>\n",
              "      <td>1</td>\n",
              "      <td>4.742303</td>\n",
              "      <td>storecredit</td>\n",
              "      <td>0.000000</td>\n",
              "      <td>electronics</td>\n",
              "      <td>0.0</td>\n",
              "      <td>0</td>\n",
              "    </tr>\n",
              "    <tr>\n",
              "      <th>2</th>\n",
              "      <td>845</td>\n",
              "      <td>1</td>\n",
              "      <td>4.921318</td>\n",
              "      <td>creditcard</td>\n",
              "      <td>0.000000</td>\n",
              "      <td>food</td>\n",
              "      <td>1.0</td>\n",
              "      <td>0</td>\n",
              "    </tr>\n",
              "    <tr>\n",
              "      <th>3</th>\n",
              "      <td>503</td>\n",
              "      <td>1</td>\n",
              "      <td>4.886641</td>\n",
              "      <td>creditcard</td>\n",
              "      <td>0.000000</td>\n",
              "      <td>electronics</td>\n",
              "      <td>1.0</td>\n",
              "      <td>0</td>\n",
              "    </tr>\n",
              "    <tr>\n",
              "      <th>4</th>\n",
              "      <td>2000</td>\n",
              "      <td>1</td>\n",
              "      <td>5.040929</td>\n",
              "      <td>creditcard</td>\n",
              "      <td>0.000000</td>\n",
              "      <td>shopping</td>\n",
              "      <td>0.0</td>\n",
              "      <td>0</td>\n",
              "    </tr>\n",
              "  </tbody>\n",
              "</table>\n",
              "</div>\n",
              "    <div class=\"colab-df-buttons\">\n",
              "\n",
              "  <div class=\"colab-df-container\">\n",
              "    <button class=\"colab-df-convert\" onclick=\"convertToInteractive('df-9dd3188b-894d-4f1b-8dd3-b4d95694c6ad')\"\n",
              "            title=\"Convert this dataframe to an interactive table.\"\n",
              "            style=\"display:none;\">\n",
              "\n",
              "  <svg xmlns=\"http://www.w3.org/2000/svg\" height=\"24px\" viewBox=\"0 -960 960 960\">\n",
              "    <path d=\"M120-120v-720h720v720H120Zm60-500h600v-160H180v160Zm220 220h160v-160H400v160Zm0 220h160v-160H400v160ZM180-400h160v-160H180v160Zm440 0h160v-160H620v160ZM180-180h160v-160H180v160Zm440 0h160v-160H620v160Z\"/>\n",
              "  </svg>\n",
              "    </button>\n",
              "\n",
              "  <style>\n",
              "    .colab-df-container {\n",
              "      display:flex;\n",
              "      gap: 12px;\n",
              "    }\n",
              "\n",
              "    .colab-df-convert {\n",
              "      background-color: #E8F0FE;\n",
              "      border: none;\n",
              "      border-radius: 50%;\n",
              "      cursor: pointer;\n",
              "      display: none;\n",
              "      fill: #1967D2;\n",
              "      height: 32px;\n",
              "      padding: 0 0 0 0;\n",
              "      width: 32px;\n",
              "    }\n",
              "\n",
              "    .colab-df-convert:hover {\n",
              "      background-color: #E2EBFA;\n",
              "      box-shadow: 0px 1px 2px rgba(60, 64, 67, 0.3), 0px 1px 3px 1px rgba(60, 64, 67, 0.15);\n",
              "      fill: #174EA6;\n",
              "    }\n",
              "\n",
              "    .colab-df-buttons div {\n",
              "      margin-bottom: 4px;\n",
              "    }\n",
              "\n",
              "    [theme=dark] .colab-df-convert {\n",
              "      background-color: #3B4455;\n",
              "      fill: #D2E3FC;\n",
              "    }\n",
              "\n",
              "    [theme=dark] .colab-df-convert:hover {\n",
              "      background-color: #434B5C;\n",
              "      box-shadow: 0px 1px 3px 1px rgba(0, 0, 0, 0.15);\n",
              "      filter: drop-shadow(0px 1px 2px rgba(0, 0, 0, 0.3));\n",
              "      fill: #FFFFFF;\n",
              "    }\n",
              "  </style>\n",
              "\n",
              "    <script>\n",
              "      const buttonEl =\n",
              "        document.querySelector('#df-9dd3188b-894d-4f1b-8dd3-b4d95694c6ad button.colab-df-convert');\n",
              "      buttonEl.style.display =\n",
              "        google.colab.kernel.accessAllowed ? 'block' : 'none';\n",
              "\n",
              "      async function convertToInteractive(key) {\n",
              "        const element = document.querySelector('#df-9dd3188b-894d-4f1b-8dd3-b4d95694c6ad');\n",
              "        const dataTable =\n",
              "          await google.colab.kernel.invokeFunction('convertToInteractive',\n",
              "                                                    [key], {});\n",
              "        if (!dataTable) return;\n",
              "\n",
              "        const docLinkHtml = 'Like what you see? Visit the ' +\n",
              "          '<a target=\"_blank\" href=https://colab.research.google.com/notebooks/data_table.ipynb>data table notebook</a>'\n",
              "          + ' to learn more about interactive tables.';\n",
              "        element.innerHTML = '';\n",
              "        dataTable['output_type'] = 'display_data';\n",
              "        await google.colab.output.renderOutput(dataTable, element);\n",
              "        const docLink = document.createElement('div');\n",
              "        docLink.innerHTML = docLinkHtml;\n",
              "        element.appendChild(docLink);\n",
              "      }\n",
              "    </script>\n",
              "  </div>\n",
              "\n",
              "\n",
              "<div id=\"df-7a30de4a-8da5-4778-9733-9174b74a9dd2\">\n",
              "  <button class=\"colab-df-quickchart\" onclick=\"quickchart('df-7a30de4a-8da5-4778-9733-9174b74a9dd2')\"\n",
              "            title=\"Suggest charts\"\n",
              "            style=\"display:none;\">\n",
              "\n",
              "<svg xmlns=\"http://www.w3.org/2000/svg\" height=\"24px\"viewBox=\"0 0 24 24\"\n",
              "     width=\"24px\">\n",
              "    <g>\n",
              "        <path d=\"M19 3H5c-1.1 0-2 .9-2 2v14c0 1.1.9 2 2 2h14c1.1 0 2-.9 2-2V5c0-1.1-.9-2-2-2zM9 17H7v-7h2v7zm4 0h-2V7h2v10zm4 0h-2v-4h2v4z\"/>\n",
              "    </g>\n",
              "</svg>\n",
              "  </button>\n",
              "\n",
              "<style>\n",
              "  .colab-df-quickchart {\n",
              "      --bg-color: #E8F0FE;\n",
              "      --fill-color: #1967D2;\n",
              "      --hover-bg-color: #E2EBFA;\n",
              "      --hover-fill-color: #174EA6;\n",
              "      --disabled-fill-color: #AAA;\n",
              "      --disabled-bg-color: #DDD;\n",
              "  }\n",
              "\n",
              "  [theme=dark] .colab-df-quickchart {\n",
              "      --bg-color: #3B4455;\n",
              "      --fill-color: #D2E3FC;\n",
              "      --hover-bg-color: #434B5C;\n",
              "      --hover-fill-color: #FFFFFF;\n",
              "      --disabled-bg-color: #3B4455;\n",
              "      --disabled-fill-color: #666;\n",
              "  }\n",
              "\n",
              "  .colab-df-quickchart {\n",
              "    background-color: var(--bg-color);\n",
              "    border: none;\n",
              "    border-radius: 50%;\n",
              "    cursor: pointer;\n",
              "    display: none;\n",
              "    fill: var(--fill-color);\n",
              "    height: 32px;\n",
              "    padding: 0;\n",
              "    width: 32px;\n",
              "  }\n",
              "\n",
              "  .colab-df-quickchart:hover {\n",
              "    background-color: var(--hover-bg-color);\n",
              "    box-shadow: 0 1px 2px rgba(60, 64, 67, 0.3), 0 1px 3px 1px rgba(60, 64, 67, 0.15);\n",
              "    fill: var(--button-hover-fill-color);\n",
              "  }\n",
              "\n",
              "  .colab-df-quickchart-complete:disabled,\n",
              "  .colab-df-quickchart-complete:disabled:hover {\n",
              "    background-color: var(--disabled-bg-color);\n",
              "    fill: var(--disabled-fill-color);\n",
              "    box-shadow: none;\n",
              "  }\n",
              "\n",
              "  .colab-df-spinner {\n",
              "    border: 2px solid var(--fill-color);\n",
              "    border-color: transparent;\n",
              "    border-bottom-color: var(--fill-color);\n",
              "    animation:\n",
              "      spin 1s steps(1) infinite;\n",
              "  }\n",
              "\n",
              "  @keyframes spin {\n",
              "    0% {\n",
              "      border-color: transparent;\n",
              "      border-bottom-color: var(--fill-color);\n",
              "      border-left-color: var(--fill-color);\n",
              "    }\n",
              "    20% {\n",
              "      border-color: transparent;\n",
              "      border-left-color: var(--fill-color);\n",
              "      border-top-color: var(--fill-color);\n",
              "    }\n",
              "    30% {\n",
              "      border-color: transparent;\n",
              "      border-left-color: var(--fill-color);\n",
              "      border-top-color: var(--fill-color);\n",
              "      border-right-color: var(--fill-color);\n",
              "    }\n",
              "    40% {\n",
              "      border-color: transparent;\n",
              "      border-right-color: var(--fill-color);\n",
              "      border-top-color: var(--fill-color);\n",
              "    }\n",
              "    60% {\n",
              "      border-color: transparent;\n",
              "      border-right-color: var(--fill-color);\n",
              "    }\n",
              "    80% {\n",
              "      border-color: transparent;\n",
              "      border-right-color: var(--fill-color);\n",
              "      border-bottom-color: var(--fill-color);\n",
              "    }\n",
              "    90% {\n",
              "      border-color: transparent;\n",
              "      border-bottom-color: var(--fill-color);\n",
              "    }\n",
              "  }\n",
              "</style>\n",
              "\n",
              "  <script>\n",
              "    async function quickchart(key) {\n",
              "      const quickchartButtonEl =\n",
              "        document.querySelector('#' + key + ' button');\n",
              "      quickchartButtonEl.disabled = true;  // To prevent multiple clicks.\n",
              "      quickchartButtonEl.classList.add('colab-df-spinner');\n",
              "      try {\n",
              "        const charts = await google.colab.kernel.invokeFunction(\n",
              "            'suggestCharts', [key], {});\n",
              "      } catch (error) {\n",
              "        console.error('Error during call to suggestCharts:', error);\n",
              "      }\n",
              "      quickchartButtonEl.classList.remove('colab-df-spinner');\n",
              "      quickchartButtonEl.classList.add('colab-df-quickchart-complete');\n",
              "    }\n",
              "    (() => {\n",
              "      let quickchartButtonEl =\n",
              "        document.querySelector('#df-7a30de4a-8da5-4778-9733-9174b74a9dd2 button');\n",
              "      quickchartButtonEl.style.display =\n",
              "        google.colab.kernel.accessAllowed ? 'block' : 'none';\n",
              "    })();\n",
              "  </script>\n",
              "</div>\n",
              "\n",
              "    </div>\n",
              "  </div>\n"
            ],
            "application/vnd.google.colaboratory.intrinsic+json": {
              "type": "dataframe",
              "variable_name": "data",
              "summary": "{\n  \"name\": \"data\",\n  \"rows\": 39221,\n  \"fields\": [\n    {\n      \"column\": \"accountAgeDays\",\n      \"properties\": {\n        \"dtype\": \"number\",\n        \"std\": 804,\n        \"min\": 1,\n        \"max\": 2000,\n        \"num_unique_values\": 1999,\n        \"samples\": [\n          253,\n          525,\n          385\n        ],\n        \"semantic_type\": \"\",\n        \"description\": \"\"\n      }\n    },\n    {\n      \"column\": \"numItems\",\n      \"properties\": {\n        \"dtype\": \"number\",\n        \"std\": 0,\n        \"min\": 1,\n        \"max\": 29,\n        \"num_unique_values\": 14,\n        \"samples\": [\n          15,\n          9,\n          1\n        ],\n        \"semantic_type\": \"\",\n        \"description\": \"\"\n      }\n    },\n    {\n      \"column\": \"localTime\",\n      \"properties\": {\n        \"dtype\": \"number\",\n        \"std\": 0.389360116007369,\n        \"min\": 0.4212135,\n        \"max\": 5.040929,\n        \"num_unique_values\": 25,\n        \"samples\": [\n          4.748314,\n          2.596228,\n          4.745402\n        ],\n        \"semantic_type\": \"\",\n        \"description\": \"\"\n      }\n    },\n    {\n      \"column\": \"paymentMethod\",\n      \"properties\": {\n        \"dtype\": \"category\",\n        \"num_unique_values\": 3,\n        \"samples\": [\n          \"paypal\",\n          \"storecredit\",\n          \"creditcard\"\n        ],\n        \"semantic_type\": \"\",\n        \"description\": \"\"\n      }\n    },\n    {\n      \"column\": \"paymentMethodAgeDays\",\n      \"properties\": {\n        \"dtype\": \"number\",\n        \"std\": 283.56917678469114,\n        \"min\": 0.0,\n        \"max\": 1999.580556,\n        \"num_unique_values\": 17094,\n        \"samples\": [\n          12.02777778,\n          502.0583333,\n          393.7868056\n        ],\n        \"semantic_type\": \"\",\n        \"description\": \"\"\n      }\n    },\n    {\n      \"column\": \"Category\",\n      \"properties\": {\n        \"dtype\": \"category\",\n        \"num_unique_values\": 3,\n        \"samples\": [\n          \"shopping\",\n          \"electronics\",\n          \"food\"\n        ],\n        \"semantic_type\": \"\",\n        \"description\": \"\"\n      }\n    },\n    {\n      \"column\": \"isWeekend\",\n      \"properties\": {\n        \"dtype\": \"number\",\n        \"std\": 0.5000062616933436,\n        \"min\": 0.0,\n        \"max\": 1.0,\n        \"num_unique_values\": 2,\n        \"samples\": [\n          1.0,\n          0.0\n        ],\n        \"semantic_type\": \"\",\n        \"description\": \"\"\n      }\n    },\n    {\n      \"column\": \"label\",\n      \"properties\": {\n        \"dtype\": \"number\",\n        \"std\": 0,\n        \"min\": 0,\n        \"max\": 1,\n        \"num_unique_values\": 2,\n        \"samples\": [\n          1,\n          0\n        ],\n        \"semantic_type\": \"\",\n        \"description\": \"\"\n      }\n    }\n  ]\n}"
            }
          },
          "metadata": {},
          "execution_count": 24
        }
      ],
      "source": [
        "data = pd.read_csv('/content/drive/MyDrive/datasets/Payment_Data.csv')\n",
        "data.head()"
      ]
    },
    {
      "cell_type": "markdown",
      "metadata": {
        "id": "3sTpxln2k7l3"
      },
      "source": [
        "#information about the dataset"
      ]
    },
    {
      "cell_type": "code",
      "execution_count": null,
      "metadata": {
        "colab": {
          "base_uri": "https://localhost:8080/"
        },
        "id": "zGvwrbudEefO",
        "outputId": "dd220974-0235-4eef-fed5-162c47e1803a"
      },
      "outputs": [
        {
          "output_type": "stream",
          "name": "stdout",
          "text": [
            "Dataset has 39221 rows and 8 columns.\n"
          ]
        }
      ],
      "source": [
        "#rows and column check\n",
        "rows, columns = data.shape\n",
        "print(f'Dataset has {rows} rows and {columns} columns.')"
      ]
    },
    {
      "cell_type": "code",
      "execution_count": null,
      "metadata": {
        "colab": {
          "base_uri": "https://localhost:8080/"
        },
        "id": "ZXNKDopPEwSO",
        "outputId": "a67d6e7f-a0b7-44f0-fc76-c053f14622c2"
      },
      "outputs": [
        {
          "output_type": "stream",
          "name": "stdout",
          "text": [
            "<class 'pandas.core.frame.DataFrame'>\n",
            "RangeIndex: 39221 entries, 0 to 39220\n",
            "Data columns (total 8 columns):\n",
            " #   Column                Non-Null Count  Dtype  \n",
            "---  ------                --------------  -----  \n",
            " 0   accountAgeDays        39221 non-null  int64  \n",
            " 1   numItems              39221 non-null  int64  \n",
            " 2   localTime             39221 non-null  float64\n",
            " 3   paymentMethod         39221 non-null  object \n",
            " 4   paymentMethodAgeDays  39221 non-null  float64\n",
            " 5   Category              39126 non-null  object \n",
            " 6   isWeekend             38661 non-null  float64\n",
            " 7   label                 39221 non-null  int64  \n",
            "dtypes: float64(3), int64(3), object(2)\n",
            "memory usage: 2.4+ MB\n"
          ]
        }
      ],
      "source": [
        "#data information check\n",
        "data.info()"
      ]
    },
    {
      "cell_type": "code",
      "execution_count": null,
      "metadata": {
        "colab": {
          "base_uri": "https://localhost:8080/",
          "height": 1000
        },
        "id": "OE1RLWGEsXPL",
        "outputId": "a9b84562-db86-46cf-8b1a-fc35e9af7332"
      },
      "outputs": [
        {
          "output_type": "display_data",
          "data": {
            "text/plain": [
              "<Figure size 1200x1200 with 8 Axes>"
            ],
            "image/png": "[encoded data removed]"
          },
          "metadata": {}
        }
      ],
      "source": [
        "#Let us Visualize the columns and analyze the distributions\n",
        "num_cols = 4\n",
        "num_rows = 2\n",
        "\n",
        "# Create subplots\n",
        "fig, axes = plt.subplots(num_rows, num_cols, figsize=(12, 12))\n",
        "\n",
        "# Flatten the axes array for easy iteration\n",
        "axes = axes.flatten()\n",
        "\n",
        "# Loop through each column and create a histogram\n",
        "for i, column in enumerate(data.columns):\n",
        "    ax = axes[i]\n",
        "    sns.histplot(data[column], kde=True, ax=ax)\n",
        "    ax.set_title(column)\n",
        "    ax.set_xlabel('')\n",
        "\n",
        "# Display the plot\n",
        "plt.show()\n"
      ]
    },
    {
      "cell_type": "code",
      "execution_count": null,
      "metadata": {
        "colab": {
          "base_uri": "https://localhost:8080/"
        },
        "id": "DXk7F4nMwozL",
        "outputId": "90e8e5d7-7eb1-4ed3-d0c7-6fecee49fc25"
      },
      "outputs": [
        {
          "output_type": "stream",
          "name": "stdout",
          "text": [
            "\n",
            "accountAgeDays\n",
            "2000    0.209378\n",
            "2       0.031692\n",
            "3       0.018434\n",
            "1       0.014278\n",
            "4       0.012162\n",
            "          ...   \n",
            "1399    0.000025\n",
            "1389    0.000025\n",
            "1471    0.000025\n",
            "1815    0.000025\n",
            "1512    0.000025\n",
            "Name: proportion, Length: 1999, dtype: float64\n",
            "\n",
            "numItems\n",
            "1     0.953520\n",
            "2     0.034369\n",
            "5     0.004283\n",
            "3     0.004181\n",
            "10    0.001810\n",
            "4     0.001071\n",
            "6     0.000382\n",
            "8     0.000127\n",
            "7     0.000127\n",
            "12    0.000025\n",
            "15    0.000025\n",
            "29    0.000025\n",
            "9     0.000025\n",
            "11    0.000025\n",
            "Name: proportion, dtype: float64\n",
            "\n",
            "localTime\n",
            "4.921318    0.062314\n",
            "4.921349    0.059993\n",
            "4.876771    0.059483\n",
            "4.886641    0.058974\n",
            "5.034622    0.058897\n",
            "4.524580    0.058693\n",
            "4.748314    0.058234\n",
            "5.017904    0.058030\n",
            "4.745402    0.057724\n",
            "4.836982    0.057444\n",
            "4.962055    0.057214\n",
            "4.965339    0.054945\n",
            "4.895263    0.053058\n",
            "5.040929    0.052268\n",
            "4.742303    0.043242\n",
            "4.505662    0.039035\n",
            "4.057414    0.027740\n",
            "4.461622    0.027613\n",
            "3.954522    0.016471\n",
            "3.575983    0.011295\n",
            "3.483951    0.009306\n",
            "3.066058    0.006731\n",
            "2.948940    0.005813\n",
            "2.596228    0.005431\n",
            "0.421214    0.000051\n",
            "Name: proportion, dtype: float64\n",
            "\n",
            "paymentMethod\n",
            "creditcard     0.714005\n",
            "paypal         0.237194\n",
            "storecredit    0.048800\n",
            "Name: proportion, dtype: float64\n",
            "\n",
            "paymentMethodAgeDays\n",
            "0.000000      0.354580\n",
            "0.000694      0.059509\n",
            "0.001389      0.022309\n",
            "0.002083      0.012748\n",
            "0.002778      0.009561\n",
            "                ...   \n",
            "300.893750    0.000025\n",
            "433.043056    0.000025\n",
            "707.093056    0.000025\n",
            "0.235417      0.000025\n",
            "236.082639    0.000025\n",
            "Name: proportion, Length: 17094, dtype: float64\n",
            "\n",
            "Category\n",
            "shopping       0.340643\n",
            "food           0.331340\n",
            "electronics    0.328017\n",
            "Name: proportion, dtype: float64\n",
            "\n",
            "isWeekend\n",
            "0.0    0.500453\n",
            "1.0    0.499547\n",
            "Name: proportion, dtype: float64\n",
            "\n",
            "label\n",
            "0    0.985722\n",
            "1    0.014278\n",
            "Name: proportion, dtype: float64\n"
          ]
        }
      ],
      "source": [
        "# value count of each column value\n",
        "for i in (data):\n",
        "  print()\n",
        "  print(data[i].value_counts(normalize = True))\n"
      ]
    },
    {
      "cell_type": "code",
      "execution_count": null,
      "metadata": {
        "id": "M0txFn-iJ1hf"
      },
      "outputs": [],
      "source": [
        "#visualizing value count of paymentMethodAgeDays column\n",
        "abc = data['paymentMethodAgeDays'].value_counts(normalize = True) >= 0.36\n",
        "for i in (abc):\n",
        "  if i == True:\n",
        "    print(i)"
      ]
    },
    {
      "cell_type": "code",
      "execution_count": null,
      "metadata": {
        "colab": {
          "base_uri": "https://localhost:8080/",
          "height": 449
        },
        "id": "sWvhJjS_Jq3k",
        "outputId": "2918f2c9-ed60-4cec-89a2-c6a101376c32"
      },
      "outputs": [
        {
          "output_type": "display_data",
          "data": {
            "text/plain": [
              "<Figure size 640x480 with 1 Axes>"
            ],
            "image/png": "[encoded data removed]"
          },
          "metadata": {}
        }
      ],
      "source": [
        "sns.countplot(x = 'numItems', data = data)\n",
        "plt.show()"
      ]
    },
    {
      "cell_type": "code",
      "execution_count": null,
      "metadata": {
        "colab": {
          "base_uri": "https://localhost:8080/"
        },
        "id": "cCtmLzFbEVyv",
        "outputId": "6d5a979a-3eb0-4249-9da8-97cf606ce9f2"
      },
      "outputs": [
        {
          "output_type": "execute_result",
          "data": {
            "text/plain": [
              "0        1\n",
              "1        1\n",
              "2        1\n",
              "3        1\n",
              "4        1\n",
              "        ..\n",
              "39216    1\n",
              "39217    1\n",
              "39218    1\n",
              "39219    1\n",
              "39220    1\n",
              "Name: numItems, Length: 39221, dtype: int64"
            ]
          },
          "metadata": {},
          "execution_count": 31
        }
      ],
      "source": [
        "#numItems is having 95% of the value in 1 category\n",
        "data.pop('numItems')"
      ]
    },
    {
      "cell_type": "code",
      "execution_count": null,
      "metadata": {
        "colab": {
          "base_uri": "https://localhost:8080/"
        },
        "id": "VEQwtWfIwh-H",
        "outputId": "974d072a-1b65-43a9-a91c-b8227a43fa77"
      },
      "outputs": [
        {
          "output_type": "execute_result",
          "data": {
            "text/plain": [
              "3200"
            ]
          },
          "metadata": {},
          "execution_count": 32
        }
      ],
      "source": [
        "#duplicate check\n",
        "data.duplicated().sum()"
      ]
    },
    {
      "cell_type": "markdown",
      "metadata": {
        "id": "ZesSUrJTzUjN"
      },
      "source": [
        "this is transaction dataset, so it is possible to have duplicates"
      ]
    },
    {
      "cell_type": "markdown",
      "metadata": {
        "id": "8LRA-Crb-2SN"
      },
      "source": [
        "#converting local time into timeframe of 24 hrs"
      ]
    },
    {
      "cell_type": "code",
      "execution_count": null,
      "metadata": {
        "id": "5P7pa_vs71Hn"
      },
      "outputs": [],
      "source": [
        "def time_convert (time_float):\n",
        "  hrs = int(time_float)\n",
        "  min = int((time_float - hrs) *60)\n",
        "\n",
        "  return f\"{hrs:02}.{min:02}\""
      ]
    },
    {
      "cell_type": "code",
      "execution_count": null,
      "metadata": {
        "id": "7RXcJ69NKNDA"
      },
      "outputs": [],
      "source": [
        "data['localTime'] = data['localTime'].apply(time_convert)"
      ]
    },
    {
      "cell_type": "code",
      "execution_count": null,
      "metadata": {
        "colab": {
          "base_uri": "https://localhost:8080/",
          "height": 206
        },
        "id": "POgG_ndyLdks",
        "outputId": "c16597af-170d-4294-d3af-f8805d96201b"
      },
      "outputs": [
        {
          "output_type": "execute_result",
          "data": {
            "text/plain": [
              "   accountAgeDays localTime paymentMethod  paymentMethodAgeDays     Category  \\\n",
              "0              29     04.44        paypal             28.204861     shopping   \n",
              "1             725     04.44   storecredit              0.000000  electronics   \n",
              "2             845     04.55    creditcard              0.000000         food   \n",
              "3             503     04.53    creditcard              0.000000  electronics   \n",
              "4            2000     05.02    creditcard              0.000000     shopping   \n",
              "\n",
              "   isWeekend  label  \n",
              "0        0.0      0  \n",
              "1        0.0      0  \n",
              "2        1.0      0  \n",
              "3        1.0      0  \n",
              "4        0.0      0  "
            ],
            "text/html": [
              "\n",
              "  <div id=\"df-acdfce31-92f7-4234-a647-e458b981ff55\" class=\"colab-df-container\">\n",
              "    <div>\n",
              "<style scoped>\n",
              "    .dataframe tbody tr th:only-of-type {\n",
              "        vertical-align: middle;\n",
              "    }\n",
              "\n",
              "    .dataframe tbody tr th {\n",
              "        vertical-align: top;\n",
              "    }\n",
              "\n",
              "    .dataframe thead th {\n",
              "        text-align: right;\n",
              "    }\n",
              "</style>\n",
              "<table border=\"1\" class=\"dataframe\">\n",
              "  <thead>\n",
              "    <tr style=\"text-align: right;\">\n",
              "      <th></th>\n",
              "      <th>accountAgeDays</th>\n",
              "      <th>localTime</th>\n",
              "      <th>paymentMethod</th>\n",
              "      <th>paymentMethodAgeDays</th>\n",
              "      <th>Category</th>\n",
              "      <th>isWeekend</th>\n",
              "      <th>label</th>\n",
              "    </tr>\n",
              "  </thead>\n",
              "  <tbody>\n",
              "    <tr>\n",
              "      <th>0</th>\n",
              "      <td>29</td>\n",
              "      <td>04.44</td>\n",
              "      <td>paypal</td>\n",
              "      <td>28.204861</td>\n",
              "      <td>shopping</td>\n",
              "      <td>0.0</td>\n",
              "      <td>0</td>\n",
              "    </tr>\n",
              "    <tr>\n",
              "      <th>1</th>\n",
              "      <td>725</td>\n",
              "      <td>04.44</td>\n",
              "      <td>storecredit</td>\n",
              "      <td>0.000000</td>\n",
              "      <td>electronics</td>\n",
              "      <td>0.0</td>\n",
              "      <td>0</td>\n",
              "    </tr>\n",
              "    <tr>\n",
              "      <th>2</th>\n",
              "      <td>845</td>\n",
              "      <td>04.55</td>\n",
              "      <td>creditcard</td>\n",
              "      <td>0.000000</td>\n",
              "      <td>food</td>\n",
              "      <td>1.0</td>\n",
              "      <td>0</td>\n",
              "    </tr>\n",
              "    <tr>\n",
              "      <th>3</th>\n",
              "      <td>503</td>\n",
              "      <td>04.53</td>\n",
              "      <td>creditcard</td>\n",
              "      <td>0.000000</td>\n",
              "      <td>electronics</td>\n",
              "      <td>1.0</td>\n",
              "      <td>0</td>\n",
              "    </tr>\n",
              "    <tr>\n",
              "      <th>4</th>\n",
              "      <td>2000</td>\n",
              "      <td>05.02</td>\n",
              "      <td>creditcard</td>\n",
              "      <td>0.000000</td>\n",
              "      <td>shopping</td>\n",
              "      <td>0.0</td>\n",
              "      <td>0</td>\n",
              "    </tr>\n",
              "  </tbody>\n",
              "</table>\n",
              "</div>\n",
              "    <div class=\"colab-df-buttons\">\n",
              "\n",
              "  <div class=\"colab-df-container\">\n",
              "    <button class=\"colab-df-convert\" onclick=\"convertToInteractive('df-acdfce31-92f7-4234-a647-e458b981ff55')\"\n",
              "            title=\"Convert this dataframe to an interactive table.\"\n",
              "            style=\"display:none;\">\n",
              "\n",
              "  <svg xmlns=\"http://www.w3.org/2000/svg\" height=\"24px\" viewBox=\"0 -960 960 960\">\n",
              "    <path d=\"M120-120v-720h720v720H120Zm60-500h600v-160H180v160Zm220 220h160v-160H400v160Zm0 220h160v-160H400v160ZM180-400h160v-160H180v160Zm440 0h160v-160H620v160ZM180-180h160v-160H180v160Zm440 0h160v-160H620v160Z\"/>\n",
              "  </svg>\n",
              "    </button>\n",
              "\n",
              "  <style>\n",
              "    .colab-df-container {\n",
              "      display:flex;\n",
              "      gap: 12px;\n",
              "    }\n",
              "\n",
              "    .colab-df-convert {\n",
              "      background-color: #E8F0FE;\n",
              "      border: none;\n",
              "      border-radius: 50%;\n",
              "      cursor: pointer;\n",
              "      display: none;\n",
              "      fill: #1967D2;\n",
              "      height: 32px;\n",
              "      padding: 0 0 0 0;\n",
              "      width: 32px;\n",
              "    }\n",
              "\n",
              "    .colab-df-convert:hover {\n",
              "      background-color: #E2EBFA;\n",
              "      box-shadow: 0px 1px 2px rgba(60, 64, 67, 0.3), 0px 1px 3px 1px rgba(60, 64, 67, 0.15);\n",
              "      fill: #174EA6;\n",
              "    }\n",
              "\n",
              "    .colab-df-buttons div {\n",
              "      margin-bottom: 4px;\n",
              "    }\n",
              "\n",
              "    [theme=dark] .colab-df-convert {\n",
              "      background-color: #3B4455;\n",
              "      fill: #D2E3FC;\n",
              "    }\n",
              "\n",
              "    [theme=dark] .colab-df-convert:hover {\n",
              "      background-color: #434B5C;\n",
              "      box-shadow: 0px 1px 3px 1px rgba(0, 0, 0, 0.15);\n",
              "      filter: drop-shadow(0px 1px 2px rgba(0, 0, 0, 0.3));\n",
              "      fill: #FFFFFF;\n",
              "    }\n",
              "  </style>\n",
              "\n",
              "    <script>\n",
              "      const buttonEl =\n",
              "        document.querySelector('#df-acdfce31-92f7-4234-a647-e458b981ff55 button.colab-df-convert');\n",
              "      buttonEl.style.display =\n",
              "        google.colab.kernel.accessAllowed ? 'block' : 'none';\n",
              "\n",
              "      async function convertToInteractive(key) {\n",
              "        const element = document.querySelector('#df-acdfce31-92f7-4234-a647-e458b981ff55');\n",
              "        const dataTable =\n",
              "          await google.colab.kernel.invokeFunction('convertToInteractive',\n",
              "                                                    [key], {});\n",
              "        if (!dataTable) return;\n",
              "\n",
              "        const docLinkHtml = 'Like what you see? Visit the ' +\n",
              "          '<a target=\"_blank\" href=https://colab.research.google.com/notebooks/data_table.ipynb>data table notebook</a>'\n",
              "          + ' to learn more about interactive tables.';\n",
              "        element.innerHTML = '';\n",
              "        dataTable['output_type'] = 'display_data';\n",
              "        await google.colab.output.renderOutput(dataTable, element);\n",
              "        const docLink = document.createElement('div');\n",
              "        docLink.innerHTML = docLinkHtml;\n",
              "        element.appendChild(docLink);\n",
              "      }\n",
              "    </script>\n",
              "  </div>\n",
              "\n",
              "\n",
              "<div id=\"df-01ca0e6d-b071-410d-b357-e20216735f99\">\n",
              "  <button class=\"colab-df-quickchart\" onclick=\"quickchart('df-01ca0e6d-b071-410d-b357-e20216735f99')\"\n",
              "            title=\"Suggest charts\"\n",
              "            style=\"display:none;\">\n",
              "\n",
              "<svg xmlns=\"http://www.w3.org/2000/svg\" height=\"24px\"viewBox=\"0 0 24 24\"\n",
              "     width=\"24px\">\n",
              "    <g>\n",
              "        <path d=\"M19 3H5c-1.1 0-2 .9-2 2v14c0 1.1.9 2 2 2h14c1.1 0 2-.9 2-2V5c0-1.1-.9-2-2-2zM9 17H7v-7h2v7zm4 0h-2V7h2v10zm4 0h-2v-4h2v4z\"/>\n",
              "    </g>\n",
              "</svg>\n",
              "  </button>\n",
              "\n",
              "<style>\n",
              "  .colab-df-quickchart {\n",
              "      --bg-color: #E8F0FE;\n",
              "      --fill-color: #1967D2;\n",
              "      --hover-bg-color: #E2EBFA;\n",
              "      --hover-fill-color: #174EA6;\n",
              "      --disabled-fill-color: #AAA;\n",
              "      --disabled-bg-color: #DDD;\n",
              "  }\n",
              "\n",
              "  [theme=dark] .colab-df-quickchart {\n",
              "      --bg-color: #3B4455;\n",
              "      --fill-color: #D2E3FC;\n",
              "      --hover-bg-color: #434B5C;\n",
              "      --hover-fill-color: #FFFFFF;\n",
              "      --disabled-bg-color: #3B4455;\n",
              "      --disabled-fill-color: #666;\n",
              "  }\n",
              "\n",
              "  .colab-df-quickchart {\n",
              "    background-color: var(--bg-color);\n",
              "    border: none;\n",
              "    border-radius: 50%;\n",
              "    cursor: pointer;\n",
              "    display: none;\n",
              "    fill: var(--fill-color);\n",
              "    height: 32px;\n",
              "    padding: 0;\n",
              "    width: 32px;\n",
              "  }\n",
              "\n",
              "  .colab-df-quickchart:hover {\n",
              "    background-color: var(--hover-bg-color);\n",
              "    box-shadow: 0 1px 2px rgba(60, 64, 67, 0.3), 0 1px 3px 1px rgba(60, 64, 67, 0.15);\n",
              "    fill: var(--button-hover-fill-color);\n",
              "  }\n",
              "\n",
              "  .colab-df-quickchart-complete:disabled,\n",
              "  .colab-df-quickchart-complete:disabled:hover {\n",
              "    background-color: var(--disabled-bg-color);\n",
              "    fill: var(--disabled-fill-color);\n",
              "    box-shadow: none;\n",
              "  }\n",
              "\n",
              "  .colab-df-spinner {\n",
              "    border: 2px solid var(--fill-color);\n",
              "    border-color: transparent;\n",
              "    border-bottom-color: var(--fill-color);\n",
              "    animation:\n",
              "      spin 1s steps(1) infinite;\n",
              "  }\n",
              "\n",
              "  @keyframes spin {\n",
              "    0% {\n",
              "      border-color: transparent;\n",
              "      border-bottom-color: var(--fill-color);\n",
              "      border-left-color: var(--fill-color);\n",
              "    }\n",
              "    20% {\n",
              "      border-color: transparent;\n",
              "      border-left-color: var(--fill-color);\n",
              "      border-top-color: var(--fill-color);\n",
              "    }\n",
              "    30% {\n",
              "      border-color: transparent;\n",
              "      border-left-color: var(--fill-color);\n",
              "      border-top-color: var(--fill-color);\n",
              "      border-right-color: var(--fill-color);\n",
              "    }\n",
              "    40% {\n",
              "      border-color: transparent;\n",
              "      border-right-color: var(--fill-color);\n",
              "      border-top-color: var(--fill-color);\n",
              "    }\n",
              "    60% {\n",
              "      border-color: transparent;\n",
              "      border-right-color: var(--fill-color);\n",
              "    }\n",
              "    80% {\n",
              "      border-color: transparent;\n",
              "      border-right-color: var(--fill-color);\n",
              "      border-bottom-color: var(--fill-color);\n",
              "    }\n",
              "    90% {\n",
              "      border-color: transparent;\n",
              "      border-bottom-color: var(--fill-color);\n",
              "    }\n",
              "  }\n",
              "</style>\n",
              "\n",
              "  <script>\n",
              "    async function quickchart(key) {\n",
              "      const quickchartButtonEl =\n",
              "        document.querySelector('#' + key + ' button');\n",
              "      quickchartButtonEl.disabled = true;  // To prevent multiple clicks.\n",
              "      quickchartButtonEl.classList.add('colab-df-spinner');\n",
              "      try {\n",
              "        const charts = await google.colab.kernel.invokeFunction(\n",
              "            'suggestCharts', [key], {});\n",
              "      } catch (error) {\n",
              "        console.error('Error during call to suggestCharts:', error);\n",
              "      }\n",
              "      quickchartButtonEl.classList.remove('colab-df-spinner');\n",
              "      quickchartButtonEl.classList.add('colab-df-quickchart-complete');\n",
              "    }\n",
              "    (() => {\n",
              "      let quickchartButtonEl =\n",
              "        document.querySelector('#df-01ca0e6d-b071-410d-b357-e20216735f99 button');\n",
              "      quickchartButtonEl.style.display =\n",
              "        google.colab.kernel.accessAllowed ? 'block' : 'none';\n",
              "    })();\n",
              "  </script>\n",
              "</div>\n",
              "\n",
              "    </div>\n",
              "  </div>\n"
            ],
            "application/vnd.google.colaboratory.intrinsic+json": {
              "type": "dataframe",
              "variable_name": "data",
              "summary": "{\n  \"name\": \"data\",\n  \"rows\": 39221,\n  \"fields\": [\n    {\n      \"column\": \"accountAgeDays\",\n      \"properties\": {\n        \"dtype\": \"number\",\n        \"std\": 804,\n        \"min\": 1,\n        \"max\": 2000,\n        \"num_unique_values\": 1999,\n        \"samples\": [\n          253,\n          525,\n          385\n        ],\n        \"semantic_type\": \"\",\n        \"description\": \"\"\n      }\n    },\n    {\n      \"column\": \"localTime\",\n      \"properties\": {\n        \"dtype\": \"category\",\n        \"num_unique_values\": 19,\n        \"samples\": [\n          \"04.44\",\n          \"04.52\",\n          \"02.35\"\n        ],\n        \"semantic_type\": \"\",\n        \"description\": \"\"\n      }\n    },\n    {\n      \"column\": \"paymentMethod\",\n      \"properties\": {\n        \"dtype\": \"category\",\n        \"num_unique_values\": 3,\n        \"samples\": [\n          \"paypal\",\n          \"storecredit\",\n          \"creditcard\"\n        ],\n        \"semantic_type\": \"\",\n        \"description\": \"\"\n      }\n    },\n    {\n      \"column\": \"paymentMethodAgeDays\",\n      \"properties\": {\n        \"dtype\": \"number\",\n        \"std\": 283.56917678469114,\n        \"min\": 0.0,\n        \"max\": 1999.580556,\n        \"num_unique_values\": 17094,\n        \"samples\": [\n          12.02777778,\n          502.0583333,\n          393.7868056\n        ],\n        \"semantic_type\": \"\",\n        \"description\": \"\"\n      }\n    },\n    {\n      \"column\": \"Category\",\n      \"properties\": {\n        \"dtype\": \"category\",\n        \"num_unique_values\": 3,\n        \"samples\": [\n          \"shopping\",\n          \"electronics\",\n          \"food\"\n        ],\n        \"semantic_type\": \"\",\n        \"description\": \"\"\n      }\n    },\n    {\n      \"column\": \"isWeekend\",\n      \"properties\": {\n        \"dtype\": \"number\",\n        \"std\": 0.5000062616933436,\n        \"min\": 0.0,\n        \"max\": 1.0,\n        \"num_unique_values\": 2,\n        \"samples\": [\n          1.0,\n          0.0\n        ],\n        \"semantic_type\": \"\",\n        \"description\": \"\"\n      }\n    },\n    {\n      \"column\": \"label\",\n      \"properties\": {\n        \"dtype\": \"number\",\n        \"std\": 0,\n        \"min\": 0,\n        \"max\": 1,\n        \"num_unique_values\": 2,\n        \"samples\": [\n          1,\n          0\n        ],\n        \"semantic_type\": \"\",\n        \"description\": \"\"\n      }\n    }\n  ]\n}"
            }
          },
          "metadata": {},
          "execution_count": 35
        }
      ],
      "source": [
        "data.head()"
      ]
    },
    {
      "cell_type": "code",
      "execution_count": null,
      "metadata": {
        "colab": {
          "base_uri": "https://localhost:8080/"
        },
        "id": "qYX1A2ZcLkxJ",
        "outputId": "7b72c6fc-d9fb-422b-ad39-42e0780cdc9e"
      },
      "outputs": [
        {
          "output_type": "execute_result",
          "data": {
            "text/plain": [
              "array(['04.44', '04.55', '04.53', '05.02', '04.57', '04.52', '04.27',\n",
              "       '04.30', '04.50', '04.03', '03.29', '02.35', '05.01', '04.31',\n",
              "       '02.56', '03.03', '03.34', '03.57', '00.25'], dtype=object)"
            ]
          },
          "metadata": {},
          "execution_count": 36
        }
      ],
      "source": [
        "data['localTime'].unique()"
      ]
    },
    {
      "cell_type": "code",
      "execution_count": null,
      "metadata": {
        "colab": {
          "base_uri": "https://localhost:8080/"
        },
        "id": "VUKWetK5yZpB",
        "outputId": "4f1591f4-ae3e-4232-e527-966b834bd199"
      },
      "outputs": [
        {
          "output_type": "execute_result",
          "data": {
            "text/plain": [
              "localTime\n",
              "04.44    6244\n",
              "04.55    4797\n",
              "04.57    4399\n",
              "04.53    4394\n",
              "05.02    4360\n",
              "04.52    2333\n",
              "04.31    2302\n",
              "05.01    2276\n",
              "04.50    2253\n",
              "04.30    1531\n",
              "04.03    1088\n",
              "04.27    1083\n",
              "03.57     646\n",
              "03.34     443\n",
              "03.29     365\n",
              "03.03     264\n",
              "02.56     228\n",
              "02.35     213\n",
              "00.25       2\n",
              "Name: count, dtype: int64"
            ]
          },
          "metadata": {},
          "execution_count": 37
        }
      ],
      "source": [
        "data['localTime'].value_counts()"
      ]
    },
    {
      "cell_type": "markdown",
      "metadata": {
        "id": "iyI3sIvqbL5h"
      },
      "source": [
        "the time  is within the frame of 12am to 6am and 80% time is between 4am to 5.30am"
      ]
    },
    {
      "cell_type": "code",
      "execution_count": null,
      "metadata": {
        "colab": {
          "base_uri": "https://localhost:8080/"
        },
        "id": "Be7g58FCTexg",
        "outputId": "89890bf5-6c62-4f2b-9fc0-be387febd2fc"
      },
      "outputs": [
        {
          "output_type": "execute_result",
          "data": {
            "text/plain": [
              "0        04.44\n",
              "1        04.44\n",
              "2        04.55\n",
              "3        04.53\n",
              "4        05.02\n",
              "         ...  \n",
              "39216    04.50\n",
              "39217    04.52\n",
              "39218    04.44\n",
              "39219    04.55\n",
              "39220    05.02\n",
              "Name: localTime, Length: 39221, dtype: object"
            ]
          },
          "metadata": {},
          "execution_count": 38
        }
      ],
      "source": [
        "data.pop('localTime')"
      ]
    },
    {
      "cell_type": "markdown",
      "metadata": {
        "id": "mXqCDxPco6-6"
      },
      "source": [
        "#Findings from data that all the fradulent transactions belongs to  'accountAgeDays' == 1 and 'isWeekend' == null"
      ]
    },
    {
      "cell_type": "code",
      "execution_count": null,
      "metadata": {
        "id": "JripbzV4RgUe"
      },
      "outputs": [],
      "source": [
        "#imputing the missing values\n",
        "data['isWeekend'].fillna('blank',inplace = True)\n",
        "data['Category'] = data['Category'].fillna(data['Category'].mode()[0])"
      ]
    },
    {
      "cell_type": "code",
      "execution_count": null,
      "metadata": {
        "colab": {
          "base_uri": "https://localhost:8080/"
        },
        "id": "L8kmtVzkR-VB",
        "outputId": "7a215e25-cdba-46fd-9836-8c13b1c53ffc"
      },
      "outputs": [
        {
          "output_type": "execute_result",
          "data": {
            "text/plain": [
              "isWeekend\n",
              "0.0      19348\n",
              "1.0      19313\n",
              "blank      560\n",
              "Name: count, dtype: int64"
            ]
          },
          "metadata": {},
          "execution_count": 40
        }
      ],
      "source": [
        "data['isWeekend'].value_counts()"
      ]
    },
    {
      "cell_type": "code",
      "execution_count": null,
      "metadata": {
        "colab": {
          "base_uri": "https://localhost:8080/",
          "height": 206
        },
        "id": "KvTr-uU6LhAY",
        "outputId": "b85cc6ef-5308-4c06-b113-d7e12a261b03"
      },
      "outputs": [
        {
          "output_type": "execute_result",
          "data": {
            "text/plain": [
              "   accountAgeDays  paymentMethodAgeDays  label  isWeekend_1.0  \\\n",
              "0              29             28.204861      0              0   \n",
              "1             725              0.000000      0              0   \n",
              "2             845              0.000000      0              1   \n",
              "3             503              0.000000      0              1   \n",
              "4            2000              0.000000      0              0   \n",
              "\n",
              "   isWeekend_blank  paymentMethod_paypal  paymentMethod_storecredit  \\\n",
              "0                0                     1                          0   \n",
              "1                0                     0                          1   \n",
              "2                0                     0                          0   \n",
              "3                0                     0                          0   \n",
              "4                0                     0                          0   \n",
              "\n",
              "   Category_food  Category_shopping  \n",
              "0              0                  1  \n",
              "1              0                  0  \n",
              "2              1                  0  \n",
              "3              0                  0  \n",
              "4              0                  1  "
            ],
            "text/html": [
              "\n",
              "  <div id=\"df-fb4380d6-87d9-498e-9557-5fef931170b3\" class=\"colab-df-container\">\n",
              "    <div>\n",
              "<style scoped>\n",
              "    .dataframe tbody tr th:only-of-type {\n",
              "        vertical-align: middle;\n",
              "    }\n",
              "\n",
              "    .dataframe tbody tr th {\n",
              "        vertical-align: top;\n",
              "    }\n",
              "\n",
              "    .dataframe thead th {\n",
              "        text-align: right;\n",
              "    }\n",
              "</style>\n",
              "<table border=\"1\" class=\"dataframe\">\n",
              "  <thead>\n",
              "    <tr style=\"text-align: right;\">\n",
              "      <th></th>\n",
              "      <th>accountAgeDays</th>\n",
              "      <th>paymentMethodAgeDays</th>\n",
              "      <th>label</th>\n",
              "      <th>isWeekend_1.0</th>\n",
              "      <th>isWeekend_blank</th>\n",
              "      <th>paymentMethod_paypal</th>\n",
              "      <th>paymentMethod_storecredit</th>\n",
              "      <th>Category_food</th>\n",
              "      <th>Category_shopping</th>\n",
              "    </tr>\n",
              "  </thead>\n",
              "  <tbody>\n",
              "    <tr>\n",
              "      <th>0</th>\n",
              "      <td>29</td>\n",
              "      <td>28.204861</td>\n",
              "      <td>0</td>\n",
              "      <td>0</td>\n",
              "      <td>0</td>\n",
              "      <td>1</td>\n",
              "      <td>0</td>\n",
              "      <td>0</td>\n",
              "      <td>1</td>\n",
              "    </tr>\n",
              "    <tr>\n",
              "      <th>1</th>\n",
              "      <td>725</td>\n",
              "      <td>0.000000</td>\n",
              "      <td>0</td>\n",
              "      <td>0</td>\n",
              "      <td>0</td>\n",
              "      <td>0</td>\n",
              "      <td>1</td>\n",
              "      <td>0</td>\n",
              "      <td>0</td>\n",
              "    </tr>\n",
              "    <tr>\n",
              "      <th>2</th>\n",
              "      <td>845</td>\n",
              "      <td>0.000000</td>\n",
              "      <td>0</td>\n",
              "      <td>1</td>\n",
              "      <td>0</td>\n",
              "      <td>0</td>\n",
              "      <td>0</td>\n",
              "      <td>1</td>\n",
              "      <td>0</td>\n",
              "    </tr>\n",
              "    <tr>\n",
              "      <th>3</th>\n",
              "      <td>503</td>\n",
              "      <td>0.000000</td>\n",
              "      <td>0</td>\n",
              "      <td>1</td>\n",
              "      <td>0</td>\n",
              "      <td>0</td>\n",
              "      <td>0</td>\n",
              "      <td>0</td>\n",
              "      <td>0</td>\n",
              "    </tr>\n",
              "    <tr>\n",
              "      <th>4</th>\n",
              "      <td>2000</td>\n",
              "      <td>0.000000</td>\n",
              "      <td>0</td>\n",
              "      <td>0</td>\n",
              "      <td>0</td>\n",
              "      <td>0</td>\n",
              "      <td>0</td>\n",
              "      <td>0</td>\n",
              "      <td>1</td>\n",
              "    </tr>\n",
              "  </tbody>\n",
              "</table>\n",
              "</div>\n",
              "    <div class=\"colab-df-buttons\">\n",
              "\n",
              "  <div class=\"colab-df-container\">\n",
              "    <button class=\"colab-df-convert\" onclick=\"convertToInteractive('df-fb4380d6-87d9-498e-9557-5fef931170b3')\"\n",
              "            title=\"Convert this dataframe to an interactive table.\"\n",
              "            style=\"display:none;\">\n",
              "\n",
              "  <svg xmlns=\"http://www.w3.org/2000/svg\" height=\"24px\" viewBox=\"0 -960 960 960\">\n",
              "    <path d=\"M120-120v-720h720v720H120Zm60-500h600v-160H180v160Zm220 220h160v-160H400v160Zm0 220h160v-160H400v160ZM180-400h160v-160H180v160Zm440 0h160v-160H620v160ZM180-180h160v-160H180v160Zm440 0h160v-160H620v160Z\"/>\n",
              "  </svg>\n",
              "    </button>\n",
              "\n",
              "  <style>\n",
              "    .colab-df-container {\n",
              "      display:flex;\n",
              "      gap: 12px;\n",
              "    }\n",
              "\n",
              "    .colab-df-convert {\n",
              "      background-color: #E8F0FE;\n",
              "      border: none;\n",
              "      border-radius: 50%;\n",
              "      cursor: pointer;\n",
              "      display: none;\n",
              "      fill: #1967D2;\n",
              "      height: 32px;\n",
              "      padding: 0 0 0 0;\n",
              "      width: 32px;\n",
              "    }\n",
              "\n",
              "    .colab-df-convert:hover {\n",
              "      background-color: #E2EBFA;\n",
              "      box-shadow: 0px 1px 2px rgba(60, 64, 67, 0.3), 0px 1px 3px 1px rgba(60, 64, 67, 0.15);\n",
              "      fill: #174EA6;\n",
              "    }\n",
              "\n",
              "    .colab-df-buttons div {\n",
              "      margin-bottom: 4px;\n",
              "    }\n",
              "\n",
              "    [theme=dark] .colab-df-convert {\n",
              "      background-color: #3B4455;\n",
              "      fill: #D2E3FC;\n",
              "    }\n",
              "\n",
              "    [theme=dark] .colab-df-convert:hover {\n",
              "      background-color: #434B5C;\n",
              "      box-shadow: 0px 1px 3px 1px rgba(0, 0, 0, 0.15);\n",
              "      filter: drop-shadow(0px 1px 2px rgba(0, 0, 0, 0.3));\n",
              "      fill: #FFFFFF;\n",
              "    }\n",
              "  </style>\n",
              "\n",
              "    <script>\n",
              "      const buttonEl =\n",
              "        document.querySelector('#df-fb4380d6-87d9-498e-9557-5fef931170b3 button.colab-df-convert');\n",
              "      buttonEl.style.display =\n",
              "        google.colab.kernel.accessAllowed ? 'block' : 'none';\n",
              "\n",
              "      async function convertToInteractive(key) {\n",
              "        const element = document.querySelector('#df-fb4380d6-87d9-498e-9557-5fef931170b3');\n",
              "        const dataTable =\n",
              "          await google.colab.kernel.invokeFunction('convertToInteractive',\n",
              "                                                    [key], {});\n",
              "        if (!dataTable) return;\n",
              "\n",
              "        const docLinkHtml = 'Like what you see? Visit the ' +\n",
              "          '<a target=\"_blank\" href=https://colab.research.google.com/notebooks/data_table.ipynb>data table notebook</a>'\n",
              "          + ' to learn more about interactive tables.';\n",
              "        element.innerHTML = '';\n",
              "        dataTable['output_type'] = 'display_data';\n",
              "        await google.colab.output.renderOutput(dataTable, element);\n",
              "        const docLink = document.createElement('div');\n",
              "        docLink.innerHTML = docLinkHtml;\n",
              "        element.appendChild(docLink);\n",
              "      }\n",
              "    </script>\n",
              "  </div>\n",
              "\n",
              "\n",
              "<div id=\"df-7fc2e2d5-aefc-4ab7-9616-6b2aca18489d\">\n",
              "  <button class=\"colab-df-quickchart\" onclick=\"quickchart('df-7fc2e2d5-aefc-4ab7-9616-6b2aca18489d')\"\n",
              "            title=\"Suggest charts\"\n",
              "            style=\"display:none;\">\n",
              "\n",
              "<svg xmlns=\"http://www.w3.org/2000/svg\" height=\"24px\"viewBox=\"0 0 24 24\"\n",
              "     width=\"24px\">\n",
              "    <g>\n",
              "        <path d=\"M19 3H5c-1.1 0-2 .9-2 2v14c0 1.1.9 2 2 2h14c1.1 0 2-.9 2-2V5c0-1.1-.9-2-2-2zM9 17H7v-7h2v7zm4 0h-2V7h2v10zm4 0h-2v-4h2v4z\"/>\n",
              "    </g>\n",
              "</svg>\n",
              "  </button>\n",
              "\n",
              "<style>\n",
              "  .colab-df-quickchart {\n",
              "      --bg-color: #E8F0FE;\n",
              "      --fill-color: #1967D2;\n",
              "      --hover-bg-color: #E2EBFA;\n",
              "      --hover-fill-color: #174EA6;\n",
              "      --disabled-fill-color: #AAA;\n",
              "      --disabled-bg-color: #DDD;\n",
              "  }\n",
              "\n",
              "  [theme=dark] .colab-df-quickchart {\n",
              "      --bg-color: #3B4455;\n",
              "      --fill-color: #D2E3FC;\n",
              "      --hover-bg-color: #434B5C;\n",
              "      --hover-fill-color: #FFFFFF;\n",
              "      --disabled-bg-color: #3B4455;\n",
              "      --disabled-fill-color: #666;\n",
              "  }\n",
              "\n",
              "  .colab-df-quickchart {\n",
              "    background-color: var(--bg-color);\n",
              "    border: none;\n",
              "    border-radius: 50%;\n",
              "    cursor: pointer;\n",
              "    display: none;\n",
              "    fill: var(--fill-color);\n",
              "    height: 32px;\n",
              "    padding: 0;\n",
              "    width: 32px;\n",
              "  }\n",
              "\n",
              "  .colab-df-quickchart:hover {\n",
              "    background-color: var(--hover-bg-color);\n",
              "    box-shadow: 0 1px 2px rgba(60, 64, 67, 0.3), 0 1px 3px 1px rgba(60, 64, 67, 0.15);\n",
              "    fill: var(--button-hover-fill-color);\n",
              "  }\n",
              "\n",
              "  .colab-df-quickchart-complete:disabled,\n",
              "  .colab-df-quickchart-complete:disabled:hover {\n",
              "    background-color: var(--disabled-bg-color);\n",
              "    fill: var(--disabled-fill-color);\n",
              "    box-shadow: none;\n",
              "  }\n",
              "\n",
              "  .colab-df-spinner {\n",
              "    border: 2px solid var(--fill-color);\n",
              "    border-color: transparent;\n",
              "    border-bottom-color: var(--fill-color);\n",
              "    animation:\n",
              "      spin 1s steps(1) infinite;\n",
              "  }\n",
              "\n",
              "  @keyframes spin {\n",
              "    0% {\n",
              "      border-color: transparent;\n",
              "      border-bottom-color: var(--fill-color);\n",
              "      border-left-color: var(--fill-color);\n",
              "    }\n",
              "    20% {\n",
              "      border-color: transparent;\n",
              "      border-left-color: var(--fill-color);\n",
              "      border-top-color: var(--fill-color);\n",
              "    }\n",
              "    30% {\n",
              "      border-color: transparent;\n",
              "      border-left-color: var(--fill-color);\n",
              "      border-top-color: var(--fill-color);\n",
              "      border-right-color: var(--fill-color);\n",
              "    }\n",
              "    40% {\n",
              "      border-color: transparent;\n",
              "      border-right-color: var(--fill-color);\n",
              "      border-top-color: var(--fill-color);\n",
              "    }\n",
              "    60% {\n",
              "      border-color: transparent;\n",
              "      border-right-color: var(--fill-color);\n",
              "    }\n",
              "    80% {\n",
              "      border-color: transparent;\n",
              "      border-right-color: var(--fill-color);\n",
              "      border-bottom-color: var(--fill-color);\n",
              "    }\n",
              "    90% {\n",
              "      border-color: transparent;\n",
              "      border-bottom-color: var(--fill-color);\n",
              "    }\n",
              "  }\n",
              "</style>\n",
              "\n",
              "  <script>\n",
              "    async function quickchart(key) {\n",
              "      const quickchartButtonEl =\n",
              "        document.querySelector('#' + key + ' button');\n",
              "      quickchartButtonEl.disabled = true;  // To prevent multiple clicks.\n",
              "      quickchartButtonEl.classList.add('colab-df-spinner');\n",
              "      try {\n",
              "        const charts = await google.colab.kernel.invokeFunction(\n",
              "            'suggestCharts', [key], {});\n",
              "      } catch (error) {\n",
              "        console.error('Error during call to suggestCharts:', error);\n",
              "      }\n",
              "      quickchartButtonEl.classList.remove('colab-df-spinner');\n",
              "      quickchartButtonEl.classList.add('colab-df-quickchart-complete');\n",
              "    }\n",
              "    (() => {\n",
              "      let quickchartButtonEl =\n",
              "        document.querySelector('#df-7fc2e2d5-aefc-4ab7-9616-6b2aca18489d button');\n",
              "      quickchartButtonEl.style.display =\n",
              "        google.colab.kernel.accessAllowed ? 'block' : 'none';\n",
              "    })();\n",
              "  </script>\n",
              "</div>\n",
              "\n",
              "    </div>\n",
              "  </div>\n"
            ],
            "application/vnd.google.colaboratory.intrinsic+json": {
              "type": "dataframe",
              "variable_name": "data",
              "summary": "{\n  \"name\": \"data\",\n  \"rows\": 39221,\n  \"fields\": [\n    {\n      \"column\": \"accountAgeDays\",\n      \"properties\": {\n        \"dtype\": \"number\",\n        \"std\": 804,\n        \"min\": 1,\n        \"max\": 2000,\n        \"num_unique_values\": 1999,\n        \"samples\": [\n          253,\n          525,\n          385\n        ],\n        \"semantic_type\": \"\",\n        \"description\": \"\"\n      }\n    },\n    {\n      \"column\": \"paymentMethodAgeDays\",\n      \"properties\": {\n        \"dtype\": \"number\",\n        \"std\": 283.56917678469114,\n        \"min\": 0.0,\n        \"max\": 1999.580556,\n        \"num_unique_values\": 17094,\n        \"samples\": [\n          12.02777778,\n          502.0583333,\n          393.7868056\n        ],\n        \"semantic_type\": \"\",\n        \"description\": \"\"\n      }\n    },\n    {\n      \"column\": \"label\",\n      \"properties\": {\n        \"dtype\": \"number\",\n        \"std\": 0,\n        \"min\": 0,\n        \"max\": 1,\n        \"num_unique_values\": 2,\n        \"samples\": [\n          1,\n          0\n        ],\n        \"semantic_type\": \"\",\n        \"description\": \"\"\n      }\n    },\n    {\n      \"column\": \"isWeekend_1.0\",\n      \"properties\": {\n        \"dtype\": \"number\",\n        \"std\": 0,\n        \"min\": 0,\n        \"max\": 1,\n        \"num_unique_values\": 2,\n        \"samples\": [\n          1,\n          0\n        ],\n        \"semantic_type\": \"\",\n        \"description\": \"\"\n      }\n    },\n    {\n      \"column\": \"isWeekend_blank\",\n      \"properties\": {\n        \"dtype\": \"number\",\n        \"std\": 0,\n        \"min\": 0,\n        \"max\": 1,\n        \"num_unique_values\": 2,\n        \"samples\": [\n          1,\n          0\n        ],\n        \"semantic_type\": \"\",\n        \"description\": \"\"\n      }\n    },\n    {\n      \"column\": \"paymentMethod_paypal\",\n      \"properties\": {\n        \"dtype\": \"number\",\n        \"std\": 0,\n        \"min\": 0,\n        \"max\": 1,\n        \"num_unique_values\": 2,\n        \"samples\": [\n          0,\n          1\n        ],\n        \"semantic_type\": \"\",\n        \"description\": \"\"\n      }\n    },\n    {\n      \"column\": \"paymentMethod_storecredit\",\n      \"properties\": {\n        \"dtype\": \"number\",\n        \"std\": 0,\n        \"min\": 0,\n        \"max\": 1,\n        \"num_unique_values\": 2,\n        \"samples\": [\n          1,\n          0\n        ],\n        \"semantic_type\": \"\",\n        \"description\": \"\"\n      }\n    },\n    {\n      \"column\": \"Category_food\",\n      \"properties\": {\n        \"dtype\": \"number\",\n        \"std\": 0,\n        \"min\": 0,\n        \"max\": 1,\n        \"num_unique_values\": 2,\n        \"samples\": [\n          1,\n          0\n        ],\n        \"semantic_type\": \"\",\n        \"description\": \"\"\n      }\n    },\n    {\n      \"column\": \"Category_shopping\",\n      \"properties\": {\n        \"dtype\": \"number\",\n        \"std\": 0,\n        \"min\": 0,\n        \"max\": 1,\n        \"num_unique_values\": 2,\n        \"samples\": [\n          0,\n          1\n        ],\n        \"semantic_type\": \"\",\n        \"description\": \"\"\n      }\n    }\n  ]\n}"
            }
          },
          "metadata": {},
          "execution_count": 41
        }
      ],
      "source": [
        "# creating dummies for easy processing\n",
        "\n",
        "data = pd.get_dummies(data, columns=['isWeekend','paymentMethod','Category'],dtype=int, drop_first=True)\n",
        "data.head()\n"
      ]
    },
    {
      "cell_type": "code",
      "execution_count": null,
      "metadata": {
        "colab": {
          "base_uri": "https://localhost:8080/",
          "height": 300
        },
        "id": "teq9IngGMfRo",
        "outputId": "3b3d6087-b491-4351-cd63-b28771e5609f"
      },
      "outputs": [
        {
          "output_type": "execute_result",
          "data": {
            "text/plain": [
              "       accountAgeDays  paymentMethodAgeDays         label  isWeekend_1.0  \\\n",
              "count    39221.000000          39221.000000  39221.000000   39221.000000   \n",
              "mean       857.563984            122.641326      0.014278       0.492415   \n",
              "std        804.788212            283.569177      0.118636       0.499949   \n",
              "min          1.000000              0.000000      0.000000       0.000000   \n",
              "25%         72.000000              0.000000      0.000000       0.000000   \n",
              "50%        603.000000              0.012500      0.000000       0.000000   \n",
              "75%       1804.000000             87.510417      0.000000       1.000000   \n",
              "max       2000.000000           1999.580556      1.000000       1.000000   \n",
              "\n",
              "       isWeekend_blank  paymentMethod_paypal  paymentMethod_storecredit  \\\n",
              "count     39221.000000          39221.000000               39221.000000   \n",
              "mean          0.014278              0.237194                   0.048800   \n",
              "std           0.118636              0.425368                   0.215453   \n",
              "min           0.000000              0.000000                   0.000000   \n",
              "25%           0.000000              0.000000                   0.000000   \n",
              "50%           0.000000              0.000000                   0.000000   \n",
              "75%           0.000000              0.000000                   0.000000   \n",
              "max           1.000000              1.000000                   1.000000   \n",
              "\n",
              "       Category_food  Category_shopping  \n",
              "count   39221.000000       39221.000000  \n",
              "mean        0.330537           0.342240  \n",
              "std         0.470413           0.474466  \n",
              "min         0.000000           0.000000  \n",
              "25%         0.000000           0.000000  \n",
              "50%         0.000000           0.000000  \n",
              "75%         1.000000           1.000000  \n",
              "max         1.000000           1.000000  "
            ],
            "text/html": [
              "\n",
              "  <div id=\"df-3bf650c9-96cd-4f86-a56b-d4f981d39d9e\" class=\"colab-df-container\">\n",
              "    <div>\n",
              "<style scoped>\n",
              "    .dataframe tbody tr th:only-of-type {\n",
              "        vertical-align: middle;\n",
              "    }\n",
              "\n",
              "    .dataframe tbody tr th {\n",
              "        vertical-align: top;\n",
              "    }\n",
              "\n",
              "    .dataframe thead th {\n",
              "        text-align: right;\n",
              "    }\n",
              "</style>\n",
              "<table border=\"1\" class=\"dataframe\">\n",
              "  <thead>\n",
              "    <tr style=\"text-align: right;\">\n",
              "      <th></th>\n",
              "      <th>accountAgeDays</th>\n",
              "      <th>paymentMethodAgeDays</th>\n",
              "      <th>label</th>\n",
              "      <th>isWeekend_1.0</th>\n",
              "      <th>isWeekend_blank</th>\n",
              "      <th>paymentMethod_paypal</th>\n",
              "      <th>paymentMethod_storecredit</th>\n",
              "      <th>Category_food</th>\n",
              "      <th>Category_shopping</th>\n",
              "    </tr>\n",
              "  </thead>\n",
              "  <tbody>\n",
              "    <tr>\n",
              "      <th>count</th>\n",
              "      <td>39221.000000</td>\n",
              "      <td>39221.000000</td>\n",
              "      <td>39221.000000</td>\n",
              "      <td>39221.000000</td>\n",
              "      <td>39221.000000</td>\n",
              "      <td>39221.000000</td>\n",
              "      <td>39221.000000</td>\n",
              "      <td>39221.000000</td>\n",
              "      <td>39221.000000</td>\n",
              "    </tr>\n",
              "    <tr>\n",
              "      <th>mean</th>\n",
              "      <td>857.563984</td>\n",
              "      <td>122.641326</td>\n",
              "      <td>0.014278</td>\n",
              "      <td>0.492415</td>\n",
              "      <td>0.014278</td>\n",
              "      <td>0.237194</td>\n",
              "      <td>0.048800</td>\n",
              "      <td>0.330537</td>\n",
              "      <td>0.342240</td>\n",
              "    </tr>\n",
              "    <tr>\n",
              "      <th>std</th>\n",
              "      <td>804.788212</td>\n",
              "      <td>283.569177</td>\n",
              "      <td>0.118636</td>\n",
              "      <td>0.499949</td>\n",
              "      <td>0.118636</td>\n",
              "      <td>0.425368</td>\n",
              "      <td>0.215453</td>\n",
              "      <td>0.470413</td>\n",
              "      <td>0.474466</td>\n",
              "    </tr>\n",
              "    <tr>\n",
              "      <th>min</th>\n",
              "      <td>1.000000</td>\n",
              "      <td>0.000000</td>\n",
              "      <td>0.000000</td>\n",
              "      <td>0.000000</td>\n",
              "      <td>0.000000</td>\n",
              "      <td>0.000000</td>\n",
              "      <td>0.000000</td>\n",
              "      <td>0.000000</td>\n",
              "      <td>0.000000</td>\n",
              "    </tr>\n",
              "    <tr>\n",
              "      <th>25%</th>\n",
              "      <td>72.000000</td>\n",
              "      <td>0.000000</td>\n",
              "      <td>0.000000</td>\n",
              "      <td>0.000000</td>\n",
              "      <td>0.000000</td>\n",
              "      <td>0.000000</td>\n",
              "      <td>0.000000</td>\n",
              "      <td>0.000000</td>\n",
              "      <td>0.000000</td>\n",
              "    </tr>\n",
              "    <tr>\n",
              "      <th>50%</th>\n",
              "      <td>603.000000</td>\n",
              "      <td>0.012500</td>\n",
              "      <td>0.000000</td>\n",
              "      <td>0.000000</td>\n",
              "      <td>0.000000</td>\n",
              "      <td>0.000000</td>\n",
              "      <td>0.000000</td>\n",
              "      <td>0.000000</td>\n",
              "      <td>0.000000</td>\n",
              "    </tr>\n",
              "    <tr>\n",
              "      <th>75%</th>\n",
              "      <td>1804.000000</td>\n",
              "      <td>87.510417</td>\n",
              "      <td>0.000000</td>\n",
              "      <td>1.000000</td>\n",
              "      <td>0.000000</td>\n",
              "      <td>0.000000</td>\n",
              "      <td>0.000000</td>\n",
              "      <td>1.000000</td>\n",
              "      <td>1.000000</td>\n",
              "    </tr>\n",
              "    <tr>\n",
              "      <th>max</th>\n",
              "      <td>2000.000000</td>\n",
              "      <td>1999.580556</td>\n",
              "      <td>1.000000</td>\n",
              "      <td>1.000000</td>\n",
              "      <td>1.000000</td>\n",
              "      <td>1.000000</td>\n",
              "      <td>1.000000</td>\n",
              "      <td>1.000000</td>\n",
              "      <td>1.000000</td>\n",
              "    </tr>\n",
              "  </tbody>\n",
              "</table>\n",
              "</div>\n",
              "    <div class=\"colab-df-buttons\">\n",
              "\n",
              "  <div class=\"colab-df-container\">\n",
              "    <button class=\"colab-df-convert\" onclick=\"convertToInteractive('df-3bf650c9-96cd-4f86-a56b-d4f981d39d9e')\"\n",
              "            title=\"Convert this dataframe to an interactive table.\"\n",
              "            style=\"display:none;\">\n",
              "\n",
              "  <svg xmlns=\"http://www.w3.org/2000/svg\" height=\"24px\" viewBox=\"0 -960 960 960\">\n",
              "    <path d=\"M120-120v-720h720v720H120Zm60-500h600v-160H180v160Zm220 220h160v-160H400v160Zm0 220h160v-160H400v160ZM180-400h160v-160H180v160Zm440 0h160v-160H620v160ZM180-180h160v-160H180v160Zm440 0h160v-160H620v160Z\"/>\n",
              "  </svg>\n",
              "    </button>\n",
              "\n",
              "  <style>\n",
              "    .colab-df-container {\n",
              "      display:flex;\n",
              "      gap: 12px;\n",
              "    }\n",
              "\n",
              "    .colab-df-convert {\n",
              "      background-color: #E8F0FE;\n",
              "      border: none;\n",
              "      border-radius: 50%;\n",
              "      cursor: pointer;\n",
              "      display: none;\n",
              "      fill: #1967D2;\n",
              "      height: 32px;\n",
              "      padding: 0 0 0 0;\n",
              "      width: 32px;\n",
              "    }\n",
              "\n",
              "    .colab-df-convert:hover {\n",
              "      background-color: #E2EBFA;\n",
              "      box-shadow: 0px 1px 2px rgba(60, 64, 67, 0.3), 0px 1px 3px 1px rgba(60, 64, 67, 0.15);\n",
              "      fill: #174EA6;\n",
              "    }\n",
              "\n",
              "    .colab-df-buttons div {\n",
              "      margin-bottom: 4px;\n",
              "    }\n",
              "\n",
              "    [theme=dark] .colab-df-convert {\n",
              "      background-color: #3B4455;\n",
              "      fill: #D2E3FC;\n",
              "    }\n",
              "\n",
              "    [theme=dark] .colab-df-convert:hover {\n",
              "      background-color: #434B5C;\n",
              "      box-shadow: 0px 1px 3px 1px rgba(0, 0, 0, 0.15);\n",
              "      filter: drop-shadow(0px 1px 2px rgba(0, 0, 0, 0.3));\n",
              "      fill: #FFFFFF;\n",
              "    }\n",
              "  </style>\n",
              "\n",
              "    <script>\n",
              "      const buttonEl =\n",
              "        document.querySelector('#df-3bf650c9-96cd-4f86-a56b-d4f981d39d9e button.colab-df-convert');\n",
              "      buttonEl.style.display =\n",
              "        google.colab.kernel.accessAllowed ? 'block' : 'none';\n",
              "\n",
              "      async function convertToInteractive(key) {\n",
              "        const element = document.querySelector('#df-3bf650c9-96cd-4f86-a56b-d4f981d39d9e');\n",
              "        const dataTable =\n",
              "          await google.colab.kernel.invokeFunction('convertToInteractive',\n",
              "                                                    [key], {});\n",
              "        if (!dataTable) return;\n",
              "\n",
              "        const docLinkHtml = 'Like what you see? Visit the ' +\n",
              "          '<a target=\"_blank\" href=https://colab.research.google.com/notebooks/data_table.ipynb>data table notebook</a>'\n",
              "          + ' to learn more about interactive tables.';\n",
              "        element.innerHTML = '';\n",
              "        dataTable['output_type'] = 'display_data';\n",
              "        await google.colab.output.renderOutput(dataTable, element);\n",
              "        const docLink = document.createElement('div');\n",
              "        docLink.innerHTML = docLinkHtml;\n",
              "        element.appendChild(docLink);\n",
              "      }\n",
              "    </script>\n",
              "  </div>\n",
              "\n",
              "\n",
              "<div id=\"df-baeef485-7ec4-4e14-97be-3063bb99c399\">\n",
              "  <button class=\"colab-df-quickchart\" onclick=\"quickchart('df-baeef485-7ec4-4e14-97be-3063bb99c399')\"\n",
              "            title=\"Suggest charts\"\n",
              "            style=\"display:none;\">\n",
              "\n",
              "<svg xmlns=\"http://www.w3.org/2000/svg\" height=\"24px\"viewBox=\"0 0 24 24\"\n",
              "     width=\"24px\">\n",
              "    <g>\n",
              "        <path d=\"M19 3H5c-1.1 0-2 .9-2 2v14c0 1.1.9 2 2 2h14c1.1 0 2-.9 2-2V5c0-1.1-.9-2-2-2zM9 17H7v-7h2v7zm4 0h-2V7h2v10zm4 0h-2v-4h2v4z\"/>\n",
              "    </g>\n",
              "</svg>\n",
              "  </button>\n",
              "\n",
              "<style>\n",
              "  .colab-df-quickchart {\n",
              "      --bg-color: #E8F0FE;\n",
              "      --fill-color: #1967D2;\n",
              "      --hover-bg-color: #E2EBFA;\n",
              "      --hover-fill-color: #174EA6;\n",
              "      --disabled-fill-color: #AAA;\n",
              "      --disabled-bg-color: #DDD;\n",
              "  }\n",
              "\n",
              "  [theme=dark] .colab-df-quickchart {\n",
              "      --bg-color: #3B4455;\n",
              "      --fill-color: #D2E3FC;\n",
              "      --hover-bg-color: #434B5C;\n",
              "      --hover-fill-color: #FFFFFF;\n",
              "      --disabled-bg-color: #3B4455;\n",
              "      --disabled-fill-color: #666;\n",
              "  }\n",
              "\n",
              "  .colab-df-quickchart {\n",
              "    background-color: var(--bg-color);\n",
              "    border: none;\n",
              "    border-radius: 50%;\n",
              "    cursor: pointer;\n",
              "    display: none;\n",
              "    fill: var(--fill-color);\n",
              "    height: 32px;\n",
              "    padding: 0;\n",
              "    width: 32px;\n",
              "  }\n",
              "\n",
              "  .colab-df-quickchart:hover {\n",
              "    background-color: var(--hover-bg-color);\n",
              "    box-shadow: 0 1px 2px rgba(60, 64, 67, 0.3), 0 1px 3px 1px rgba(60, 64, 67, 0.15);\n",
              "    fill: var(--button-hover-fill-color);\n",
              "  }\n",
              "\n",
              "  .colab-df-quickchart-complete:disabled,\n",
              "  .colab-df-quickchart-complete:disabled:hover {\n",
              "    background-color: var(--disabled-bg-color);\n",
              "    fill: var(--disabled-fill-color);\n",
              "    box-shadow: none;\n",
              "  }\n",
              "\n",
              "  .colab-df-spinner {\n",
              "    border: 2px solid var(--fill-color);\n",
              "    border-color: transparent;\n",
              "    border-bottom-color: var(--fill-color);\n",
              "    animation:\n",
              "      spin 1s steps(1) infinite;\n",
              "  }\n",
              "\n",
              "  @keyframes spin {\n",
              "    0% {\n",
              "      border-color: transparent;\n",
              "      border-bottom-color: var(--fill-color);\n",
              "      border-left-color: var(--fill-color);\n",
              "    }\n",
              "    20% {\n",
              "      border-color: transparent;\n",
              "      border-left-color: var(--fill-color);\n",
              "      border-top-color: var(--fill-color);\n",
              "    }\n",
              "    30% {\n",
              "      border-color: transparent;\n",
              "      border-left-color: var(--fill-color);\n",
              "      border-top-color: var(--fill-color);\n",
              "      border-right-color: var(--fill-color);\n",
              "    }\n",
              "    40% {\n",
              "      border-color: transparent;\n",
              "      border-right-color: var(--fill-color);\n",
              "      border-top-color: var(--fill-color);\n",
              "    }\n",
              "    60% {\n",
              "      border-color: transparent;\n",
              "      border-right-color: var(--fill-color);\n",
              "    }\n",
              "    80% {\n",
              "      border-color: transparent;\n",
              "      border-right-color: var(--fill-color);\n",
              "      border-bottom-color: var(--fill-color);\n",
              "    }\n",
              "    90% {\n",
              "      border-color: transparent;\n",
              "      border-bottom-color: var(--fill-color);\n",
              "    }\n",
              "  }\n",
              "</style>\n",
              "\n",
              "  <script>\n",
              "    async function quickchart(key) {\n",
              "      const quickchartButtonEl =\n",
              "        document.querySelector('#' + key + ' button');\n",
              "      quickchartButtonEl.disabled = true;  // To prevent multiple clicks.\n",
              "      quickchartButtonEl.classList.add('colab-df-spinner');\n",
              "      try {\n",
              "        const charts = await google.colab.kernel.invokeFunction(\n",
              "            'suggestCharts', [key], {});\n",
              "      } catch (error) {\n",
              "        console.error('Error during call to suggestCharts:', error);\n",
              "      }\n",
              "      quickchartButtonEl.classList.remove('colab-df-spinner');\n",
              "      quickchartButtonEl.classList.add('colab-df-quickchart-complete');\n",
              "    }\n",
              "    (() => {\n",
              "      let quickchartButtonEl =\n",
              "        document.querySelector('#df-baeef485-7ec4-4e14-97be-3063bb99c399 button');\n",
              "      quickchartButtonEl.style.display =\n",
              "        google.colab.kernel.accessAllowed ? 'block' : 'none';\n",
              "    })();\n",
              "  </script>\n",
              "</div>\n",
              "\n",
              "    </div>\n",
              "  </div>\n"
            ],
            "application/vnd.google.colaboratory.intrinsic+json": {
              "type": "dataframe",
              "summary": "{\n  \"name\": \"data\",\n  \"rows\": 8,\n  \"fields\": [\n    {\n      \"column\": \"accountAgeDays\",\n      \"properties\": {\n        \"dtype\": \"number\",\n        \"std\": 13575.523855976826,\n        \"min\": 1.0,\n        \"max\": 39221.0,\n        \"num_unique_values\": 8,\n        \"samples\": [\n          857.5639835802249,\n          603.0,\n          39221.0\n        ],\n        \"semantic_type\": \"\",\n        \"description\": \"\"\n      }\n    },\n    {\n      \"column\": \"paymentMethodAgeDays\",\n      \"properties\": {\n        \"dtype\": \"number\",\n        \"std\": 13757.479913730933,\n        \"min\": 0.0,\n        \"max\": 39221.0,\n        \"num_unique_values\": 7,\n        \"samples\": [\n          39221.0,\n          122.64132635921675,\n          87.51041667\n        ],\n        \"semantic_type\": \"\",\n        \"description\": \"\"\n      }\n    },\n    {\n      \"column\": \"label\",\n      \"properties\": {\n        \"dtype\": \"number\",\n        \"std\": 13866.660315924775,\n        \"min\": 0.0,\n        \"max\": 39221.0,\n        \"num_unique_values\": 5,\n        \"samples\": [\n          0.014278065322148849,\n          1.0,\n          0.1186362551056249\n        ],\n        \"semantic_type\": \"\",\n        \"description\": \"\"\n      }\n    },\n    {\n      \"column\": \"isWeekend_1.0\",\n      \"properties\": {\n        \"dtype\": \"number\",\n        \"std\": 13866.566401522512,\n        \"min\": 0.0,\n        \"max\": 39221.0,\n        \"num_unique_values\": 5,\n        \"samples\": [\n          0.49241477779760845,\n          1.0,\n          0.4999488346180749\n        ],\n        \"semantic_type\": \"\",\n        \"description\": \"\"\n      }\n    },\n    {\n      \"column\": \"isWeekend_blank\",\n      \"properties\": {\n        \"dtype\": \"number\",\n        \"std\": 13866.660315924775,\n        \"min\": 0.0,\n        \"max\": 39221.0,\n        \"num_unique_values\": 5,\n        \"samples\": [\n          0.014278065322148849,\n          1.0,\n          0.1186362551056249\n        ],\n        \"semantic_type\": \"\",\n        \"description\": \"\"\n      }\n    },\n    {\n      \"column\": \"paymentMethod_paypal\",\n      \"properties\": {\n        \"dtype\": \"number\",\n        \"std\": 13866.633564725282,\n        \"min\": 0.0,\n        \"max\": 39221.0,\n        \"num_unique_values\": 5,\n        \"samples\": [\n          0.23719436016419776,\n          1.0,\n          0.42536785134695176\n        ],\n        \"semantic_type\": \"\",\n        \"description\": \"\"\n      }\n    },\n    {\n      \"column\": \"paymentMethod_storecredit\",\n      \"properties\": {\n        \"dtype\": \"number\",\n        \"std\": 13866.653682234792,\n        \"min\": 0.0,\n        \"max\": 39221.0,\n        \"num_unique_values\": 5,\n        \"samples\": [\n          0.04880038754748731,\n          1.0,\n          0.2154532275801631\n        ],\n        \"semantic_type\": \"\",\n        \"description\": \"\"\n      }\n    },\n    {\n      \"column\": \"Category_food\",\n      \"properties\": {\n        \"dtype\": \"number\",\n        \"std\": 13866.576069362005,\n        \"min\": 0.0,\n        \"max\": 39221.0,\n        \"num_unique_values\": 5,\n        \"samples\": [\n          0.33053721220774585,\n          1.0,\n          0.4704125908533053\n        ],\n        \"semantic_type\": \"\",\n        \"description\": \"\"\n      }\n    },\n    {\n      \"column\": \"Category_shopping\",\n      \"properties\": {\n        \"dtype\": \"number\",\n        \"std\": 13866.57527356517,\n        \"min\": 0.0,\n        \"max\": 39221.0,\n        \"num_unique_values\": 5,\n        \"samples\": [\n          0.3422401264628643,\n          1.0,\n          0.4744655540939156\n        ],\n        \"semantic_type\": \"\",\n        \"description\": \"\"\n      }\n    }\n  ]\n}"
            }
          },
          "metadata": {},
          "execution_count": 42
        }
      ],
      "source": [
        "#data summary\n",
        "data.describe()"
      ]
    },
    {
      "cell_type": "markdown",
      "source": [
        "#multicollinearity check"
      ],
      "metadata": {
        "id": "Y-AUPlWYNwZG"
      }
    },
    {
      "cell_type": "code",
      "execution_count": null,
      "metadata": {
        "colab": {
          "base_uri": "https://localhost:8080/",
          "height": 818
        },
        "id": "wgzevqxnO4DK",
        "outputId": "1ea07d6c-eb81-4f2b-fc5e-7352013caef8"
      },
      "outputs": [
        {
          "output_type": "display_data",
          "data": {
            "text/plain": [
              "<Figure size 2000x900 with 2 Axes>"
            ],
            "image/png": "[encoded data removed]"
          },
          "metadata": {}
        }
      ],
      "source": [
        "# Get the correlation matrix\n",
        "plt.figure(figsize=(20,9))\n",
        "\n",
        "corr = data.corr()\n",
        "mask = np.triu(corr)\n",
        "\n",
        "# Create a heatmap\n",
        "sns.heatmap(corr, vmin=-1, vmax=1, annot=True, cmap='rocket_r',mask = mask)\n",
        "\n",
        "# Display the heatmap\n",
        "plt.show()\n"
      ]
    },
    {
      "cell_type": "markdown",
      "source": [
        "#outliers check"
      ],
      "metadata": {
        "id": "ldLp1wH6N0iN"
      }
    },
    {
      "cell_type": "code",
      "execution_count": null,
      "metadata": {
        "colab": {
          "base_uri": "https://localhost:8080/",
          "height": 1000
        },
        "id": "NyXdgNmbMhuY",
        "outputId": "2b059c61-a044-4449-ad3d-d4ab362e6b00"
      },
      "outputs": [
        {
          "output_type": "display_data",
          "data": {
            "text/plain": [
              "<Figure size 640x480 with 1 Axes>"
            ],
            "image/png": "[encoded data removed]"
          },
          "metadata": {}
        },
        {
          "output_type": "display_data",
          "data": {
            "text/plain": [
              "<Figure size 640x480 with 1 Axes>"
            ],
            "image/png": "[encoded data removed]"
          },
          "metadata": {}
        },
        {
          "output_type": "display_data",
          "data": {
            "text/plain": [
              "<Figure size 640x480 with 1 Axes>"
            ],
            "image/png": "[encoded data removed]"
          },
          "metadata": {}
        },
        {
          "output_type": "display_data",
          "data": {
            "text/plain": [
              "<Figure size 640x480 with 1 Axes>"
            ],
            "image/png": "[encoded data removed]"
          },
          "metadata": {}
        },
        {
          "output_type": "display_data",
          "data": {
            "text/plain": [
              "<Figure size 640x480 with 1 Axes>"
            ],
            "image/png": "[encoded data removed]"
          },
          "metadata": {}
        },
        {
          "output_type": "display_data",
          "data": {
            "text/plain": [
              "<Figure size 640x480 with 1 Axes>"
            ],
            "image/png": "[encoded data removed]"
          },
          "metadata": {}
        },
        {
          "output_type": "display_data",
          "data": {
            "text/plain": [
              "<Figure size 640x480 with 1 Axes>"
            ],
            "image/png": "[encoded data removed]"
          },
          "metadata": {}
        },
        {
          "output_type": "display_data",
          "data": {
            "text/plain": [
              "<Figure size 640x480 with 1 Axes>"
            ],
            "image/png": "[encoded data removed]"
          },
          "metadata": {}
        },
        {
          "output_type": "display_data",
          "data": {
            "text/plain": [
              "<Figure size 640x480 with 1 Axes>"
            ],
            "image/png": "[encoded data removed]"
          },
          "metadata": {}
        }
      ],
      "source": [
        "def distplots(col):\n",
        "  sns.boxplot(data[col])\n",
        "  plt.show()\n",
        "\n",
        "for i in list(data.columns)[0:]:\n",
        "  distplots(i)"
      ]
    },
    {
      "cell_type": "code",
      "execution_count": null,
      "metadata": {
        "colab": {
          "base_uri": "https://localhost:8080/",
          "height": 411
        },
        "id": "fmsqFmmA95_o",
        "outputId": "afbba68b-00e0-4156-f30e-32067c69bba2"
      },
      "outputs": [
        {
          "output_type": "display_data",
          "data": {
            "text/plain": [
              "<Figure size 640x480 with 1 Axes>"
            ],
            "image/png": "[encoded data removed]"
          },
          "metadata": {}
        }
      ],
      "source": [
        "# Create a boxplot of the data\n",
        "sns.boxplot(data=data['paymentMethodAgeDays'])\n",
        "plt.show()"
      ]
    },
    {
      "cell_type": "code",
      "execution_count": null,
      "metadata": {
        "id": "WC-skEVvMhxT"
      },
      "outputs": [],
      "source": [
        "#imputing outlier\n",
        "coulmn_name = 'paymentMethodAgeDays'\n",
        "q1 = data[coulmn_name].quantile(0.25)\n",
        "q3 = data[coulmn_name].quantile(0.25)\n",
        "iqr = q3 -q1\n",
        "\n",
        "ll = q1 -1.5 *iqr\n",
        "ul = q3 + 1.5 * iqr\n",
        "\n",
        "outliers = data[(data[coulmn_name] < ll) | (data[coulmn_name]> ul)]\n",
        "\n",
        "median_v = data[coulmn_name].median()\n",
        "data.loc[outliers.index,coulmn_name] = median_v"
      ]
    },
    {
      "cell_type": "code",
      "execution_count": null,
      "metadata": {
        "colab": {
          "base_uri": "https://localhost:8080/",
          "height": 411
        },
        "id": "6pvYGWXbMh0U",
        "outputId": "659b068b-3500-42ad-f7c3-50861a67b20c"
      },
      "outputs": [
        {
          "output_type": "display_data",
          "data": {
            "text/plain": [
              "<Figure size 640x480 with 1 Axes>"
            ],
            "image/png": "[encoded data removed]"
          },
          "metadata": {}
        }
      ],
      "source": [
        "# Create a boxplot of the data\n",
        "sns.boxplot(data=data['paymentMethodAgeDays'])\n",
        "plt.show()\n"
      ]
    },
    {
      "cell_type": "markdown",
      "metadata": {
        "id": "bI6nUMa_D_9R"
      },
      "source": [
        "#seperating the target column\n"
      ]
    },
    {
      "cell_type": "code",
      "execution_count": null,
      "metadata": {
        "id": "Sbmxk625D-Pb"
      },
      "outputs": [],
      "source": [
        "x = data.drop(['label'],axis= 1)\n",
        "y = data['label']\n"
      ]
    },
    {
      "cell_type": "code",
      "execution_count": null,
      "metadata": {
        "colab": {
          "base_uri": "https://localhost:8080/"
        },
        "id": "9hHuaXBrE53C",
        "outputId": "36834f9f-5a7c-4736-c44b-efcbf6b29f37"
      },
      "outputs": [
        {
          "output_type": "execute_result",
          "data": {
            "text/plain": [
              "Index(['accountAgeDays', 'paymentMethodAgeDays', 'isWeekend_1.0',\n",
              "       'isWeekend_blank', 'paymentMethod_paypal', 'paymentMethod_storecredit',\n",
              "       'Category_food', 'Category_shopping'],\n",
              "      dtype='object')"
            ]
          },
          "metadata": {},
          "execution_count": 49
        }
      ],
      "source": [
        "x.columns"
      ]
    },
    {
      "cell_type": "markdown",
      "metadata": {
        "id": "NBslY2RHFs9e"
      },
      "source": [
        "# feature scaling"
      ]
    },
    {
      "cell_type": "code",
      "execution_count": null,
      "metadata": {
        "id": "UPGPRuYTJGlC"
      },
      "outputs": [],
      "source": [
        "#creating copy of features\n",
        "copy_x = x"
      ]
    },
    {
      "cell_type": "code",
      "execution_count": null,
      "metadata": {
        "colab": {
          "base_uri": "https://localhost:8080/",
          "height": 206
        },
        "id": "jh5h_DxmR5GY",
        "outputId": "9d9350c4-0672-467b-b0c2-de790bdf0fcb"
      },
      "outputs": [
        {
          "output_type": "execute_result",
          "data": {
            "text/plain": [
              "   accountAgeDays  paymentMethodAgeDays  isWeekend_1.0  isWeekend_blank  \\\n",
              "0       -1.029556              0.741202              0                0   \n",
              "1       -0.164721             -1.349161              0                0   \n",
              "2       -0.015612             -1.349161              1                0   \n",
              "3       -0.440574             -1.349161              1                0   \n",
              "4        1.419567             -1.349161              0                0   \n",
              "\n",
              "   paymentMethod_paypal  paymentMethod_storecredit  Category_food  \\\n",
              "0                     1                          0              0   \n",
              "1                     0                          1              0   \n",
              "2                     0                          0              1   \n",
              "3                     0                          0              0   \n",
              "4                     0                          0              0   \n",
              "\n",
              "   Category_shopping  \n",
              "0                  1  \n",
              "1                  0  \n",
              "2                  0  \n",
              "3                  0  \n",
              "4                  1  "
            ],
            "text/html": [
              "\n",
              "  <div id=\"df-f4d5b262-ba31-4524-b668-32135bd56683\" class=\"colab-df-container\">\n",
              "    <div>\n",
              "<style scoped>\n",
              "    .dataframe tbody tr th:only-of-type {\n",
              "        vertical-align: middle;\n",
              "    }\n",
              "\n",
              "    .dataframe tbody tr th {\n",
              "        vertical-align: top;\n",
              "    }\n",
              "\n",
              "    .dataframe thead th {\n",
              "        text-align: right;\n",
              "    }\n",
              "</style>\n",
              "<table border=\"1\" class=\"dataframe\">\n",
              "  <thead>\n",
              "    <tr style=\"text-align: right;\">\n",
              "      <th></th>\n",
              "      <th>accountAgeDays</th>\n",
              "      <th>paymentMethodAgeDays</th>\n",
              "      <th>isWeekend_1.0</th>\n",
              "      <th>isWeekend_blank</th>\n",
              "      <th>paymentMethod_paypal</th>\n",
              "      <th>paymentMethod_storecredit</th>\n",
              "      <th>Category_food</th>\n",
              "      <th>Category_shopping</th>\n",
              "    </tr>\n",
              "  </thead>\n",
              "  <tbody>\n",
              "    <tr>\n",
              "      <th>0</th>\n",
              "      <td>-1.029556</td>\n",
              "      <td>0.741202</td>\n",
              "      <td>0</td>\n",
              "      <td>0</td>\n",
              "      <td>1</td>\n",
              "      <td>0</td>\n",
              "      <td>0</td>\n",
              "      <td>1</td>\n",
              "    </tr>\n",
              "    <tr>\n",
              "      <th>1</th>\n",
              "      <td>-0.164721</td>\n",
              "      <td>-1.349161</td>\n",
              "      <td>0</td>\n",
              "      <td>0</td>\n",
              "      <td>0</td>\n",
              "      <td>1</td>\n",
              "      <td>0</td>\n",
              "      <td>0</td>\n",
              "    </tr>\n",
              "    <tr>\n",
              "      <th>2</th>\n",
              "      <td>-0.015612</td>\n",
              "      <td>-1.349161</td>\n",
              "      <td>1</td>\n",
              "      <td>0</td>\n",
              "      <td>0</td>\n",
              "      <td>0</td>\n",
              "      <td>1</td>\n",
              "      <td>0</td>\n",
              "    </tr>\n",
              "    <tr>\n",
              "      <th>3</th>\n",
              "      <td>-0.440574</td>\n",
              "      <td>-1.349161</td>\n",
              "      <td>1</td>\n",
              "      <td>0</td>\n",
              "      <td>0</td>\n",
              "      <td>0</td>\n",
              "      <td>0</td>\n",
              "      <td>0</td>\n",
              "    </tr>\n",
              "    <tr>\n",
              "      <th>4</th>\n",
              "      <td>1.419567</td>\n",
              "      <td>-1.349161</td>\n",
              "      <td>0</td>\n",
              "      <td>0</td>\n",
              "      <td>0</td>\n",
              "      <td>0</td>\n",
              "      <td>0</td>\n",
              "      <td>1</td>\n",
              "    </tr>\n",
              "  </tbody>\n",
              "</table>\n",
              "</div>\n",
              "    <div class=\"colab-df-buttons\">\n",
              "\n",
              "  <div class=\"colab-df-container\">\n",
              "    <button class=\"colab-df-convert\" onclick=\"convertToInteractive('df-f4d5b262-ba31-4524-b668-32135bd56683')\"\n",
              "            title=\"Convert this dataframe to an interactive table.\"\n",
              "            style=\"display:none;\">\n",
              "\n",
              "  <svg xmlns=\"http://www.w3.org/2000/svg\" height=\"24px\" viewBox=\"0 -960 960 960\">\n",
              "    <path d=\"M120-120v-720h720v720H120Zm60-500h600v-160H180v160Zm220 220h160v-160H400v160Zm0 220h160v-160H400v160ZM180-400h160v-160H180v160Zm440 0h160v-160H620v160ZM180-180h160v-160H180v160Zm440 0h160v-160H620v160Z\"/>\n",
              "  </svg>\n",
              "    </button>\n",
              "\n",
              "  <style>\n",
              "    .colab-df-container {\n",
              "      display:flex;\n",
              "      gap: 12px;\n",
              "    }\n",
              "\n",
              "    .colab-df-convert {\n",
              "      background-color: #E8F0FE;\n",
              "      border: none;\n",
              "      border-radius: 50%;\n",
              "      cursor: pointer;\n",
              "      display: none;\n",
              "      fill: #1967D2;\n",
              "      height: 32px;\n",
              "      padding: 0 0 0 0;\n",
              "      width: 32px;\n",
              "    }\n",
              "\n",
              "    .colab-df-convert:hover {\n",
              "      background-color: #E2EBFA;\n",
              "      box-shadow: 0px 1px 2px rgba(60, 64, 67, 0.3), 0px 1px 3px 1px rgba(60, 64, 67, 0.15);\n",
              "      fill: #174EA6;\n",
              "    }\n",
              "\n",
              "    .colab-df-buttons div {\n",
              "      margin-bottom: 4px;\n",
              "    }\n",
              "\n",
              "    [theme=dark] .colab-df-convert {\n",
              "      background-color: #3B4455;\n",
              "      fill: #D2E3FC;\n",
              "    }\n",
              "\n",
              "    [theme=dark] .colab-df-convert:hover {\n",
              "      background-color: #434B5C;\n",
              "      box-shadow: 0px 1px 3px 1px rgba(0, 0, 0, 0.15);\n",
              "      filter: drop-shadow(0px 1px 2px rgba(0, 0, 0, 0.3));\n",
              "      fill: #FFFFFF;\n",
              "    }\n",
              "  </style>\n",
              "\n",
              "    <script>\n",
              "      const buttonEl =\n",
              "        document.querySelector('#df-f4d5b262-ba31-4524-b668-32135bd56683 button.colab-df-convert');\n",
              "      buttonEl.style.display =\n",
              "        google.colab.kernel.accessAllowed ? 'block' : 'none';\n",
              "\n",
              "      async function convertToInteractive(key) {\n",
              "        const element = document.querySelector('#df-f4d5b262-ba31-4524-b668-32135bd56683');\n",
              "        const dataTable =\n",
              "          await google.colab.kernel.invokeFunction('convertToInteractive',\n",
              "                                                    [key], {});\n",
              "        if (!dataTable) return;\n",
              "\n",
              "        const docLinkHtml = 'Like what you see? Visit the ' +\n",
              "          '<a target=\"_blank\" href=https://colab.research.google.com/notebooks/data_table.ipynb>data table notebook</a>'\n",
              "          + ' to learn more about interactive tables.';\n",
              "        element.innerHTML = '';\n",
              "        dataTable['output_type'] = 'display_data';\n",
              "        await google.colab.output.renderOutput(dataTable, element);\n",
              "        const docLink = document.createElement('div');\n",
              "        docLink.innerHTML = docLinkHtml;\n",
              "        element.appendChild(docLink);\n",
              "      }\n",
              "    </script>\n",
              "  </div>\n",
              "\n",
              "\n",
              "<div id=\"df-80298d3f-2557-4a35-8eef-0ead359e2d28\">\n",
              "  <button class=\"colab-df-quickchart\" onclick=\"quickchart('df-80298d3f-2557-4a35-8eef-0ead359e2d28')\"\n",
              "            title=\"Suggest charts\"\n",
              "            style=\"display:none;\">\n",
              "\n",
              "<svg xmlns=\"http://www.w3.org/2000/svg\" height=\"24px\"viewBox=\"0 0 24 24\"\n",
              "     width=\"24px\">\n",
              "    <g>\n",
              "        <path d=\"M19 3H5c-1.1 0-2 .9-2 2v14c0 1.1.9 2 2 2h14c1.1 0 2-.9 2-2V5c0-1.1-.9-2-2-2zM9 17H7v-7h2v7zm4 0h-2V7h2v10zm4 0h-2v-4h2v4z\"/>\n",
              "    </g>\n",
              "</svg>\n",
              "  </button>\n",
              "\n",
              "<style>\n",
              "  .colab-df-quickchart {\n",
              "      --bg-color: #E8F0FE;\n",
              "      --fill-color: #1967D2;\n",
              "      --hover-bg-color: #E2EBFA;\n",
              "      --hover-fill-color: #174EA6;\n",
              "      --disabled-fill-color: #AAA;\n",
              "      --disabled-bg-color: #DDD;\n",
              "  }\n",
              "\n",
              "  [theme=dark] .colab-df-quickchart {\n",
              "      --bg-color: #3B4455;\n",
              "      --fill-color: #D2E3FC;\n",
              "      --hover-bg-color: #434B5C;\n",
              "      --hover-fill-color: #FFFFFF;\n",
              "      --disabled-bg-color: #3B4455;\n",
              "      --disabled-fill-color: #666;\n",
              "  }\n",
              "\n",
              "  .colab-df-quickchart {\n",
              "    background-color: var(--bg-color);\n",
              "    border: none;\n",
              "    border-radius: 50%;\n",
              "    cursor: pointer;\n",
              "    display: none;\n",
              "    fill: var(--fill-color);\n",
              "    height: 32px;\n",
              "    padding: 0;\n",
              "    width: 32px;\n",
              "  }\n",
              "\n",
              "  .colab-df-quickchart:hover {\n",
              "    background-color: var(--hover-bg-color);\n",
              "    box-shadow: 0 1px 2px rgba(60, 64, 67, 0.3), 0 1px 3px 1px rgba(60, 64, 67, 0.15);\n",
              "    fill: var(--button-hover-fill-color);\n",
              "  }\n",
              "\n",
              "  .colab-df-quickchart-complete:disabled,\n",
              "  .colab-df-quickchart-complete:disabled:hover {\n",
              "    background-color: var(--disabled-bg-color);\n",
              "    fill: var(--disabled-fill-color);\n",
              "    box-shadow: none;\n",
              "  }\n",
              "\n",
              "  .colab-df-spinner {\n",
              "    border: 2px solid var(--fill-color);\n",
              "    border-color: transparent;\n",
              "    border-bottom-color: var(--fill-color);\n",
              "    animation:\n",
              "      spin 1s steps(1) infinite;\n",
              "  }\n",
              "\n",
              "  @keyframes spin {\n",
              "    0% {\n",
              "      border-color: transparent;\n",
              "      border-bottom-color: var(--fill-color);\n",
              "      border-left-color: var(--fill-color);\n",
              "    }\n",
              "    20% {\n",
              "      border-color: transparent;\n",
              "      border-left-color: var(--fill-color);\n",
              "      border-top-color: var(--fill-color);\n",
              "    }\n",
              "    30% {\n",
              "      border-color: transparent;\n",
              "      border-left-color: var(--fill-color);\n",
              "      border-top-color: var(--fill-color);\n",
              "      border-right-color: var(--fill-color);\n",
              "    }\n",
              "    40% {\n",
              "      border-color: transparent;\n",
              "      border-right-color: var(--fill-color);\n",
              "      border-top-color: var(--fill-color);\n",
              "    }\n",
              "    60% {\n",
              "      border-color: transparent;\n",
              "      border-right-color: var(--fill-color);\n",
              "    }\n",
              "    80% {\n",
              "      border-color: transparent;\n",
              "      border-right-color: var(--fill-color);\n",
              "      border-bottom-color: var(--fill-color);\n",
              "    }\n",
              "    90% {\n",
              "      border-color: transparent;\n",
              "      border-bottom-color: var(--fill-color);\n",
              "    }\n",
              "  }\n",
              "</style>\n",
              "\n",
              "  <script>\n",
              "    async function quickchart(key) {\n",
              "      const quickchartButtonEl =\n",
              "        document.querySelector('#' + key + ' button');\n",
              "      quickchartButtonEl.disabled = true;  // To prevent multiple clicks.\n",
              "      quickchartButtonEl.classList.add('colab-df-spinner');\n",
              "      try {\n",
              "        const charts = await google.colab.kernel.invokeFunction(\n",
              "            'suggestCharts', [key], {});\n",
              "      } catch (error) {\n",
              "        console.error('Error during call to suggestCharts:', error);\n",
              "      }\n",
              "      quickchartButtonEl.classList.remove('colab-df-spinner');\n",
              "      quickchartButtonEl.classList.add('colab-df-quickchart-complete');\n",
              "    }\n",
              "    (() => {\n",
              "      let quickchartButtonEl =\n",
              "        document.querySelector('#df-80298d3f-2557-4a35-8eef-0ead359e2d28 button');\n",
              "      quickchartButtonEl.style.display =\n",
              "        google.colab.kernel.accessAllowed ? 'block' : 'none';\n",
              "    })();\n",
              "  </script>\n",
              "</div>\n",
              "\n",
              "    </div>\n",
              "  </div>\n"
            ],
            "application/vnd.google.colaboratory.intrinsic+json": {
              "type": "dataframe",
              "variable_name": "copy_x",
              "summary": "{\n  \"name\": \"copy_x\",\n  \"rows\": 39221,\n  \"fields\": [\n    {\n      \"column\": \"accountAgeDays\",\n      \"properties\": {\n        \"dtype\": \"number\",\n        \"std\": 1.0000127485163919,\n        \"min\": -1.0643482231791679,\n        \"max\": 1.419566742801753,\n        \"num_unique_values\": 1999,\n        \"samples\": [\n          -0.7512183725402524,\n          -0.4132369464538038,\n          -0.5871979745865347\n        ],\n        \"semantic_type\": \"\",\n        \"description\": \"\"\n      }\n    },\n    {\n      \"column\": \"paymentMethodAgeDays\",\n      \"properties\": {\n        \"dtype\": \"number\",\n        \"std\": 1.0000127485163919,\n        \"min\": -1.349160633254514,\n        \"max\": 0.7412015851572462,\n        \"num_unique_values\": 2,\n        \"samples\": [\n          -1.349160633254514,\n          0.7412015851572462\n        ],\n        \"semantic_type\": \"\",\n        \"description\": \"\"\n      }\n    },\n    {\n      \"column\": \"isWeekend_1.0\",\n      \"properties\": {\n        \"dtype\": \"number\",\n        \"std\": 0,\n        \"min\": 0,\n        \"max\": 1,\n        \"num_unique_values\": 2,\n        \"samples\": [\n          1,\n          0\n        ],\n        \"semantic_type\": \"\",\n        \"description\": \"\"\n      }\n    },\n    {\n      \"column\": \"isWeekend_blank\",\n      \"properties\": {\n        \"dtype\": \"number\",\n        \"std\": 0,\n        \"min\": 0,\n        \"max\": 1,\n        \"num_unique_values\": 2,\n        \"samples\": [\n          1,\n          0\n        ],\n        \"semantic_type\": \"\",\n        \"description\": \"\"\n      }\n    },\n    {\n      \"column\": \"paymentMethod_paypal\",\n      \"properties\": {\n        \"dtype\": \"number\",\n        \"std\": 0,\n        \"min\": 0,\n        \"max\": 1,\n        \"num_unique_values\": 2,\n        \"samples\": [\n          0,\n          1\n        ],\n        \"semantic_type\": \"\",\n        \"description\": \"\"\n      }\n    },\n    {\n      \"column\": \"paymentMethod_storecredit\",\n      \"properties\": {\n        \"dtype\": \"number\",\n        \"std\": 0,\n        \"min\": 0,\n        \"max\": 1,\n        \"num_unique_values\": 2,\n        \"samples\": [\n          1,\n          0\n        ],\n        \"semantic_type\": \"\",\n        \"description\": \"\"\n      }\n    },\n    {\n      \"column\": \"Category_food\",\n      \"properties\": {\n        \"dtype\": \"number\",\n        \"std\": 0,\n        \"min\": 0,\n        \"max\": 1,\n        \"num_unique_values\": 2,\n        \"samples\": [\n          1,\n          0\n        ],\n        \"semantic_type\": \"\",\n        \"description\": \"\"\n      }\n    },\n    {\n      \"column\": \"Category_shopping\",\n      \"properties\": {\n        \"dtype\": \"number\",\n        \"std\": 0,\n        \"min\": 0,\n        \"max\": 1,\n        \"num_unique_values\": 2,\n        \"samples\": [\n          0,\n          1\n        ],\n        \"semantic_type\": \"\",\n        \"description\": \"\"\n      }\n    }\n  ]\n}"
            }
          },
          "metadata": {},
          "execution_count": 51
        }
      ],
      "source": [
        "#scaling the features\n",
        "from sklearn.preprocessing import StandardScaler\n",
        "scaler = StandardScaler()\n",
        "copy_x.iloc[:,0:2] = scaler.fit_transform(copy_x.iloc[:,0:2])\n",
        "copy_x.head()\n"
      ]
    },
    {
      "cell_type": "markdown",
      "source": [
        "#variance check"
      ],
      "metadata": {
        "id": "3XMmCyASOI5a"
      }
    },
    {
      "cell_type": "code",
      "execution_count": null,
      "metadata": {
        "colab": {
          "base_uri": "https://localhost:8080/"
        },
        "id": "rQhEMDx6Sox0",
        "outputId": "4864af1e-95a1-4309-9e70-056e71596e2c"
      },
      "outputs": [
        {
          "output_type": "stream",
          "name": "stdout",
          "text": [
            "accountAgeDays               1.000000\n",
            "paymentMethodAgeDays         1.000000\n",
            "isWeekend_1.0                0.249942\n",
            "isWeekend_blank              0.014074\n",
            "paymentMethod_paypal         0.180933\n",
            "paymentMethod_storecredit    0.046419\n",
            "Category_food                0.221282\n",
            "Category_shopping            0.225112\n",
            "dtype: float64\n"
          ]
        }
      ],
      "source": [
        "# Variance of the amount column\n",
        "variance_amount = np.var(copy_x)\n",
        "print(variance_amount)\n"
      ]
    },
    {
      "cell_type": "markdown",
      "source": [
        "#target column visualization"
      ],
      "metadata": {
        "id": "h4U_sqz2OQIO"
      }
    },
    {
      "cell_type": "code",
      "execution_count": null,
      "metadata": {
        "colab": {
          "base_uri": "https://localhost:8080/",
          "height": 559
        },
        "id": "hJ5MH7IPJ81X",
        "outputId": "1aeb0b09-4b40-4a2b-8fa1-e7fb7a6116d6"
      },
      "outputs": [
        {
          "output_type": "stream",
          "name": "stdout",
          "text": [
            "label\n",
            "0    0.985722\n",
            "1    0.014278\n",
            "Name: proportion, dtype: float64\n",
            "\n"
          ]
        },
        {
          "output_type": "display_data",
          "data": {
            "text/plain": [
              "<Figure size 640x480 with 1 Axes>"
            ],
            "image/png": "[encoded data removed]"
          },
          "metadata": {}
        }
      ],
      "source": [
        "print(y.value_counts(normalize = True))\n",
        "print()\n",
        "sns.countplot(x = 'label', data = data)\n",
        "plt.xticks(ticks = [0,1], labels = ['Legitimate','Potentially Fraudulent'])\n",
        "plt.title('Target feature')\n",
        "plt.show()\n",
        "\n"
      ]
    },
    {
      "cell_type": "markdown",
      "source": [
        "#spliting the dataset"
      ],
      "metadata": {
        "id": "Oq1i8bS_Oven"
      }
    },
    {
      "cell_type": "code",
      "execution_count": null,
      "metadata": {
        "id": "n98qzFLuxKa2"
      },
      "outputs": [],
      "source": [
        "from sklearn.model_selection import train_test_split\n",
        "X_train, X_test, y_train, y_test = train_test_split(copy_x, y, test_size=0.30, random_state=42)"
      ]
    },
    {
      "cell_type": "markdown",
      "metadata": {
        "id": "B4jKDELoK_r6"
      },
      "source": [
        "#balancing target class"
      ]
    },
    {
      "cell_type": "code",
      "execution_count": null,
      "metadata": {
        "colab": {
          "base_uri": "https://localhost:8080/"
        },
        "id": "d19SzD-IJ87W",
        "outputId": "42b771e3-a126-4c30-e997-e91f1dcb6bf7"
      },
      "outputs": [
        {
          "output_type": "stream",
          "name": "stdout",
          "text": [
            "previous shape  (560, 9) (38661, 9)\n",
            "new shap  (54132, 8) (54132,)\n"
          ]
        }
      ],
      "source": [
        "#fixing imblanced data set with smote\n",
        "healthy = data[data[\"label\"]==0]\n",
        "fraudulent  = data [data[\"label\"]== 1]\n",
        "\n",
        "print('previous shape ',fraudulent.shape,healthy.shape)\n",
        "\n",
        "from imblearn.combine import SMOTETomek\n",
        "\n",
        "smk = SMOTETomek(random_state = 42)\n",
        "x_sm,y_sm = smk.fit_resample(X_train,y_train)\n",
        "\n",
        "print('new shap ',x_sm.shape,y_sm.shape)"
      ]
    },
    {
      "cell_type": "markdown",
      "metadata": {
        "id": "zpxWtQkPOgF5"
      },
      "source": [
        "#Model Building"
      ]
    },
    {
      "cell_type": "markdown",
      "metadata": {
        "id": "PmGal05fqOmd"
      },
      "source": [
        "#Logistic Regression"
      ]
    },
    {
      "cell_type": "code",
      "execution_count": null,
      "metadata": {
        "id": "l4RLy99OV1yG"
      },
      "outputs": [],
      "source": [
        "# import the necessary libraries\n",
        "from sklearn.linear_model import LogisticRegression\n",
        "from sklearn.metrics import accuracy_score ,classification_report"
      ]
    },
    {
      "cell_type": "code",
      "execution_count": null,
      "metadata": {
        "colab": {
          "base_uri": "https://localhost:8080/"
        },
        "id": "hJHWoCPnB9sp",
        "outputId": "130098b7-b13a-4006-eaaa-ea95d03c38f4"
      },
      "outputs": [
        {
          "name": "stdout",
          "output_type": "stream",
          "text": [
            "ridge model - Best Params: {'alpha': 0.01, 'copy_X': True, 'fit_intercept': True, 'max_iter': None, 'positive': False, 'random_state': None, 'solver': 'auto', 'tol': 0.0001}\n",
            "ridge model - Mean Squared Error: 1.0154185232539465e-11\n",
            "R-squared : 0.999999999295019\n",
            "\n",
            "lasso model - Best Params: {'alpha': 0.01, 'copy_X': True, 'fit_intercept': True, 'max_iter': 1000, 'positive': False, 'precompute': False, 'random_state': None, 'selection': 'cyclic', 'tol': 0.0001, 'warm_start': False}\n",
            "lasso model - Mean Squared Error: 0.007420496646469446\n",
            "R-squared : 0.48481254390576156\n",
            "\n",
            "elastic_net model - Best Params: {'alpha': 0.01, 'copy_X': True, 'fit_intercept': True, 'l1_ratio': 0.1, 'max_iter': 1000, 'positive': False, 'precompute': False, 'random_state': None, 'selection': 'cyclic', 'tol': 0.0001, 'warm_start': False}\n",
            "elastic_net model - Mean Squared Error: 0.002735924279825724\n",
            "R-squared : 0.8100512759532746\n",
            "\n"
          ]
        }
      ],
      "source": [
        "from sklearn.linear_model import Lasso, Ridge, ElasticNet\n",
        "from sklearn.model_selection import train_test_split, GridSearchCV\n",
        "from sklearn.metrics import mean_squared_error, r2_score\n",
        "\n",
        "# Step 2: Define the Models\n",
        "ridge = Ridge()\n",
        "lasso = Lasso()\n",
        "elastic_net = ElasticNet()\n",
        "\n",
        "# Step 3: Set Up the Parameter Grid\n",
        "param_grid = {\n",
        "    'ridge': {\n",
        "        'alpha': [0.01, 0.1, 1.0, 10.0, 100.0]\n",
        "    },\n",
        "    'lasso': {\n",
        "        'alpha': [0.01, 0.1, 1.0, 10.0, 100.0]\n",
        "    },\n",
        "    'elastic_net': {\n",
        "        'alpha': [0.01, 0.1, 1.0, 10.0, 100.0],\n",
        "        'l1_ratio': [0.1, 0.5, 0.7, 0.9, 1.0]\n",
        "    }\n",
        "}\n",
        "\n",
        "# Step 4: Use Cross-Validation\n",
        "models = {\n",
        "    'ridge': GridSearchCV(ridge, param_grid['ridge'], cv=5),\n",
        "    'lasso': GridSearchCV(lasso, param_grid['lasso'], cv=5),\n",
        "    'elastic_net': GridSearchCV(elastic_net, param_grid['elastic_net'], cv=5)\n",
        "}\n",
        "\n",
        "best_models = {}\n",
        "for name, model in models.items():\n",
        "    model.fit(X_train, y_train)\n",
        "    best_models[name] = model.best_estimator_\n",
        "\n",
        "# Step 5: Evaluate and Select the Best Model\n",
        "for name, model in best_models.items():\n",
        "    y_pred = model.predict(X_test)\n",
        "    mse = mean_squared_error(y_test, y_pred)\n",
        "    r_squared = r2_score(y_test,y_pred)\n",
        "    print(f\"{name} model - Best Params: {model.get_params()}\")\n",
        "    print(f\"{name} model - Mean Squared Error: {mse}\")\n",
        "    print(f'R-squared : {r_squared}\\n')\n"
      ]
    },
    {
      "cell_type": "code",
      "execution_count": null,
      "metadata": {
        "colab": {
          "base_uri": "https://localhost:8080/"
        },
        "id": "QpeTrsrOBM1D",
        "outputId": "5672c894-6a17-4c3d-fce7-e75179dd3bd2"
      },
      "outputs": [
        {
          "name": "stdout",
          "output_type": "stream",
          "text": [
            "Accuracy for training : 100.0 \n",
            " Accuracy for testing : 100.0\n",
            "\n",
            "\n",
            "confusion matrix for testing \n",
            " [[11595     0]\n",
            " [    0   172]]\n",
            "\n",
            "\n",
            "confusion matrix for training \n",
            " [[27066     0]\n",
            " [    0 27066]]\n",
            "\n",
            "\n",
            "classification_report testing \n",
            "               precision    recall  f1-score   support\n",
            "\n",
            "           0       1.00      1.00      1.00     11595\n",
            "           1       1.00      1.00      1.00       172\n",
            "\n",
            "    accuracy                           1.00     11767\n",
            "   macro avg       1.00      1.00      1.00     11767\n",
            "weighted avg       1.00      1.00      1.00     11767\n",
            "\n",
            "\n",
            "\n",
            "classification_report training \n",
            "               precision    recall  f1-score   support\n",
            "\n",
            "           0       1.00      1.00      1.00     27066\n",
            "           1       1.00      1.00      1.00     27066\n",
            "\n",
            "    accuracy                           1.00     54132\n",
            "   macro avg       1.00      1.00      1.00     54132\n",
            "weighted avg       1.00      1.00      1.00     54132\n",
            "\n",
            "\n",
            "\n",
            "bias is 0.0 and the variance is 0.0\n"
          ]
        }
      ],
      "source": [
        "reg = LogisticRegression(penalty = 'elasticnet', l1_ratio = 0.1, solver = 'saga')\n",
        "\n",
        "# train the model using the training sets\n",
        "reg.fit(x_sm,y_sm)\n",
        "\n",
        "# predictions on the testing set\n",
        "y_lr = reg.predict(X_test)\n",
        "# predictions on the training set\n",
        "y_lr_train = reg.predict(x_sm)\n",
        "\n",
        "#accuracy\n",
        "acc_lr_train = (accuracy_score(y_sm, y_lr_train)*100) #training\n",
        "acc_lr = (accuracy_score(y_test, y_lr)*100) #testing\n",
        "\n",
        "print(\"Accuracy for training :\", acc_lr_train,'\\n',\"Accuracy for testing :\", acc_lr)\n",
        "print()\n",
        "print()\n",
        "\n",
        "#confusion matrix\n",
        "from sklearn.metrics import confusion_matrix\n",
        "#for testing\n",
        "cnf_matrix= confusion_matrix(y_test,y_lr)\n",
        "print('confusion matrix for testing','\\n',cnf_matrix)\n",
        "print()\n",
        "print()\n",
        "#for training\n",
        "cnf_matrix_train = confusion_matrix(y_sm,y_lr_train)\n",
        "print('confusion matrix for training','\\n',cnf_matrix_train)\n",
        "print()\n",
        "print()\n",
        "\n",
        "#classification_report testing\n",
        "print('classification_report testing','\\n',classification_report(y_test,y_lr))\n",
        "print()\n",
        "print()\n",
        "#classification_report training\n",
        "print('classification_report training','\\n',classification_report(y_sm,y_lr_train))\n",
        "print()\n",
        "print()\n",
        "# Calculate the bias\n",
        "bias = np.mean(y_lr - y_test)\n",
        "\n",
        "# Calculate the variance\n",
        "variance = np.mean((y_lr - y_test)**2)\n",
        "\n",
        "print(f\"bias is {bias} and the variance is {variance}\")"
      ]
    },
    {
      "cell_type": "markdown",
      "metadata": {
        "id": "GmEc9i4N2TR2"
      },
      "source": [
        "#Random Forest"
      ]
    },
    {
      "cell_type": "code",
      "execution_count": null,
      "metadata": {
        "colab": {
          "base_uri": "https://localhost:8080/"
        },
        "id": "kmjbEV6IJ9OO",
        "outputId": "09000cc7-9744-4ca9-ad37-70351b5986b8"
      },
      "outputs": [
        {
          "name": "stdout",
          "output_type": "stream",
          "text": [
            "Accuracy for training : 100.0 \n",
            " Accuracy for testing : 100.0\n",
            "\n",
            "\n",
            "confusion matrix for testing \n",
            " [[11595     0]\n",
            " [    0   172]]\n",
            "\n",
            "\n",
            "confusion matrix for training \n",
            " [[27066     0]\n",
            " [    0 27066]]\n",
            "\n",
            "\n",
            "classification_report testing \n",
            "               precision    recall  f1-score   support\n",
            "\n",
            "           0       1.00      1.00      1.00     11595\n",
            "           1       1.00      1.00      1.00       172\n",
            "\n",
            "    accuracy                           1.00     11767\n",
            "   macro avg       1.00      1.00      1.00     11767\n",
            "weighted avg       1.00      1.00      1.00     11767\n",
            "\n",
            "\n",
            "\n",
            "classification_report training \n",
            "               precision    recall  f1-score   support\n",
            "\n",
            "           0       1.00      1.00      1.00     27066\n",
            "           1       1.00      1.00      1.00     27066\n",
            "\n",
            "    accuracy                           1.00     54132\n",
            "   macro avg       1.00      1.00      1.00     54132\n",
            "weighted avg       1.00      1.00      1.00     54132\n",
            "\n",
            "\n",
            "\n",
            "bias is 0.0 and the variance is 0.0\n"
          ]
        }
      ],
      "source": [
        "# import the necessary libraries\n",
        "from sklearn.ensemble import RandomForestClassifier\n",
        "\n",
        "#Random Forest\n",
        "rf = RandomForestClassifier()\n",
        "rf.fit(x_sm,y_sm)\n",
        "\n",
        "# predictions on the testing set\n",
        "y_rf = rf.predict(X_test)\n",
        "# predictions on the training set\n",
        "y_rf_train = rf.predict(x_sm)\n",
        "\n",
        "#accuracy\n",
        "acc_rf_train = (accuracy_score(y_sm, y_rf_train)*100) #training\n",
        "acc_rf = (accuracy_score(y_test, y_rf)*100) #testing\n",
        "\n",
        "print(\"Accuracy for training :\", acc_rf_train,'\\n',\"Accuracy for testing :\", acc_rf)\n",
        "print()\n",
        "print()\n",
        "\n",
        "#confusion matrix\n",
        "from sklearn.metrics import confusion_matrix\n",
        "#for testing\n",
        "cnf_matrix= confusion_matrix(y_test,y_rf)\n",
        "print('confusion matrix for testing','\\n',cnf_matrix)\n",
        "print()\n",
        "print()\n",
        "#for training\n",
        "cnf_matrix_train= confusion_matrix(y_sm,y_rf_train)\n",
        "print('confusion matrix for training','\\n',cnf_matrix_train)\n",
        "print()\n",
        "print()\n",
        "\n",
        "#classification_report testing\n",
        "print('classification_report testing','\\n',classification_report(y_test,y_rf))\n",
        "print()\n",
        "print()\n",
        "#classification_report training\n",
        "print('classification_report training','\\n',classification_report(y_sm,y_rf_train))\n",
        "\n",
        "print()\n",
        "print()\n",
        "# Calculate the bias\n",
        "bias = np.mean(y_rf - y_test)\n",
        "\n",
        "# Calculate the variance\n",
        "variance = np.mean((y_rf - y_test)**2)\n",
        "\n",
        "print(f\"bias is {bias} and the variance is {variance}\")\n"
      ]
    },
    {
      "cell_type": "markdown",
      "metadata": {
        "id": "Vbgbjw-jKkKC"
      },
      "source": [
        "#feature importance using random forest"
      ]
    },
    {
      "cell_type": "code",
      "execution_count": null,
      "metadata": {
        "colab": {
          "base_uri": "https://localhost:8080/"
        },
        "id": "1cnobORx2ZC9",
        "outputId": "30edf339-e44a-4861-80cf-f7a36ec90c96"
      },
      "outputs": [
        {
          "name": "stdout",
          "output_type": "stream",
          "text": [
            "feature importance\n",
            "feature 1: 0.48713266821478696\n",
            "feature 2: 0.0005651083852047309\n",
            "feature 3: 0.004675563134324352\n",
            "feature 4: 0.5075700241958172\n",
            "feature 5: 1.0537237293586952e-05\n",
            "feature 6: 1.9649771018990387e-05\n",
            "feature 7: 8.368713439102485e-06\n",
            "feature 8: 1.8080348115058575e-05\n"
          ]
        }
      ],
      "source": [
        "rf_classifier = RandomForestClassifier(n_estimators = 100 , random_state = 42)\n",
        "rf_classifier.fit(x,y)\n",
        "\n",
        "print('feature importance')\n",
        "for i , importance in enumerate(rf_classifier.feature_importances_):\n",
        "  print(f\"feature {i +1 }: {importance}\")"
      ]
    },
    {
      "cell_type": "markdown",
      "metadata": {
        "id": "8vcrDnVGgDdS"
      },
      "source": [
        "#XGBoost"
      ]
    },
    {
      "cell_type": "code",
      "execution_count": null,
      "metadata": {
        "colab": {
          "base_uri": "https://localhost:8080/"
        },
        "id": "2p5tAmyo2ZIZ",
        "outputId": "200104dc-2ca5-49ff-a31b-c4b48ead58db"
      },
      "outputs": [
        {
          "name": "stdout",
          "output_type": "stream",
          "text": [
            "Accuracy testing: 100.0\n",
            "Accuracy training: 100.0\n",
            "\n",
            "Feature 1: 1.0\n",
            "Feature 2: 0.0\n",
            "Feature 3: 0.0\n",
            "Feature 4: 0.0\n",
            "Feature 5: 0.0\n",
            "Feature 6: 0.0\n",
            "Feature 7: 0.0\n",
            "Feature 8: 0.0\n",
            "\n",
            "\n",
            "confusion matrix for testing \n",
            " [[11595     0]\n",
            " [    0   172]]\n",
            "\n",
            "\n",
            "confusion matrix for training \n",
            " [[27066     0]\n",
            " [    0 27066]]\n",
            "\n",
            "\n",
            "classification_report testing \n",
            "               precision    recall  f1-score   support\n",
            "\n",
            "           0       1.00      1.00      1.00     11595\n",
            "           1       1.00      1.00      1.00       172\n",
            "\n",
            "    accuracy                           1.00     11767\n",
            "   macro avg       1.00      1.00      1.00     11767\n",
            "weighted avg       1.00      1.00      1.00     11767\n",
            "\n",
            "\n",
            "\n",
            "classification_report training \n",
            "               precision    recall  f1-score   support\n",
            "\n",
            "           0       1.00      1.00      1.00     27066\n",
            "           1       1.00      1.00      1.00     27066\n",
            "\n",
            "    accuracy                           1.00     54132\n",
            "   macro avg       1.00      1.00      1.00     54132\n",
            "weighted avg       1.00      1.00      1.00     54132\n",
            "\n",
            "\n",
            "\n",
            "bias is 0.0 and the variance is 0.0\n"
          ]
        }
      ],
      "source": [
        "import xgboost as xgb\n",
        "\n",
        "# Train model\n",
        "model = xgb.XGBClassifier(n_estimators=100, random_state=42).fit(x_sm, y_sm)\n",
        "\n",
        "# Predict\n",
        "y_pred = model.predict(X_test)\n",
        "y_pred_train = model.predict(x_sm)\n",
        "\n",
        "# Evaluate\n",
        "accuracy = accuracy_score(y_test, y_pred)\n",
        "acuuracy_train = accuracy_score(y_sm , y_pred_train)\n",
        "print(\"Accuracy testing:\", accuracy * 100)\n",
        "print(\"Accuracy training:\", acuuracy_train * 100)\n",
        "print()\n",
        "\n",
        "# Print feature importances\n",
        "importances = model.feature_importances_\n",
        "for i, importance in enumerate(importances):\n",
        "    print(f\"Feature {i + 1}: {importance}\")\n",
        "print()\n",
        "print()\n",
        "\n",
        "#confusion matrix\n",
        "from sklearn.metrics import confusion_matrix\n",
        "#for testing\n",
        "cnf_matrix= confusion_matrix(y_test,y_pred)\n",
        "print('confusion matrix for testing','\\n',cnf_matrix)\n",
        "print()\n",
        "print()\n",
        "#for training\n",
        "cnf_matrix_train = confusion_matrix(y_sm,y_pred_train)\n",
        "print('confusion matrix for training','\\n',cnf_matrix_train)\n",
        "print()\n",
        "print()\n",
        "\n",
        "#classification_report testing\n",
        "print('classification_report testing','\\n',classification_report(y_test,y_pred))\n",
        "print()\n",
        "print()\n",
        "#classification_report training\n",
        "print('classification_report training','\\n',classification_report(y_sm,y_pred_train))\n",
        "\n",
        "print()\n",
        "print()\n",
        "# Calculate the bias\n",
        "bias = np.mean(y_pred - y_test)\n",
        "\n",
        "# Calculate the variance\n",
        "variance = np.mean((y_pred - y_test)**2)\n",
        "\n",
        "print(f\"bias is {bias} and the variance is {variance}\")"
      ]
    },
    {
      "cell_type": "markdown",
      "source": [
        "#Early stopping"
      ],
      "metadata": {
        "id": "2AbMz3XyP9Dn"
      }
    },
    {
      "cell_type": "code",
      "execution_count": null,
      "metadata": {
        "colab": {
          "base_uri": "https://localhost:8080/"
        },
        "id": "vJCDwo5OOMHh",
        "outputId": "826f7a7e-a1e7-45c5-a7d0-bf143687bd9b"
      },
      "outputs": [
        {
          "name": "stdout",
          "output_type": "stream",
          "text": [
            "Epoch 1/10\n",
            "981/981 [==============================] - 5s 3ms/step - loss: 0.0271 - accuracy: 0.9939 - val_loss: 2.4917e-04 - val_accuracy: 1.0000\n",
            "Epoch 2/10\n",
            "981/981 [==============================] - 2s 2ms/step - loss: 8.2906e-05 - accuracy: 1.0000 - val_loss: 1.6227e-05 - val_accuracy: 1.0000\n",
            "Epoch 3/10\n",
            "981/981 [==============================] - 2s 2ms/step - loss: 7.9183e-06 - accuracy: 1.0000 - val_loss: 4.3241e-06 - val_accuracy: 1.0000\n",
            "Epoch 4/10\n",
            "981/981 [==============================] - 2s 2ms/step - loss: 2.7836e-06 - accuracy: 1.0000 - val_loss: 1.9019e-06 - val_accuracy: 1.0000\n",
            "Epoch 5/10\n",
            "981/981 [==============================] - 3s 3ms/step - loss: 1.3338e-06 - accuracy: 1.0000 - val_loss: 9.7530e-07 - val_accuracy: 1.0000\n",
            "Epoch 6/10\n",
            "981/981 [==============================] - 4s 4ms/step - loss: 7.1042e-07 - accuracy: 1.0000 - val_loss: 5.3355e-07 - val_accuracy: 1.0000\n",
            "Epoch 7/10\n",
            "981/981 [==============================] - 2s 2ms/step - loss: 3.9883e-07 - accuracy: 1.0000 - val_loss: 3.0338e-07 - val_accuracy: 1.0000\n",
            "Epoch 8/10\n",
            "981/981 [==============================] - 2s 2ms/step - loss: 2.3009e-07 - accuracy: 1.0000 - val_loss: 1.7642e-07 - val_accuracy: 1.0000\n",
            "Epoch 9/10\n",
            "981/981 [==============================] - 2s 2ms/step - loss: 1.3492e-07 - accuracy: 1.0000 - val_loss: 1.0358e-07 - val_accuracy: 1.0000\n",
            "Epoch 10/10\n",
            "981/981 [==============================] - 2s 2ms/step - loss: 8.0094e-08 - accuracy: 1.0000 - val_loss: 6.1778e-08 - val_accuracy: 1.0000\n"
          ]
        }
      ],
      "source": [
        "import tensorflow as tf\n",
        "from tensorflow.keras.models import Sequential\n",
        "from tensorflow.keras.layers import Dense\n",
        "from tensorflow.keras.callbacks import EarlyStopping\n",
        "from sklearn.model_selection import train_test_split\n",
        "\n",
        "\n",
        "X_train, X_val, y_train, y_val = train_test_split(x, y, test_size=0.2, random_state=42)\n",
        "\n",
        "# Define the neural network model\n",
        "model = Sequential([\n",
        "    Dense(64, activation='relu'),\n",
        "    Dense(64, activation='relu'),\n",
        "    Dense(1, activation='sigmoid')\n",
        "])\n",
        "\n",
        "# Compile the model\n",
        "model.compile(optimizer='adam', loss='binary_crossentropy', metrics=['accuracy'])\n",
        "\n",
        "# Define early stopping callback\n",
        "early_stopping = EarlyStopping(monitor='val_loss', patience=5, verbose=1)\n",
        "\n",
        "# Train the model with early stopping\n",
        "history = model.fit(X_train, y_train, epochs= 10, validation_data=(X_val, y_val), callbacks=[early_stopping])\n"
      ]
    },
    {
      "cell_type": "markdown",
      "metadata": {
        "id": "_psqYvwpg3_a"
      },
      "source": [
        "#SVM"
      ]
    },
    {
      "cell_type": "code",
      "execution_count": null,
      "metadata": {
        "colab": {
          "base_uri": "https://localhost:8080/"
        },
        "id": "M-DfrPqhOMNZ",
        "outputId": "8e04fba5-55a8-4e42-c72c-fd1e0a7f99bf"
      },
      "outputs": [
        {
          "name": "stdout",
          "output_type": "stream",
          "text": [
            "Accuracy for training : 100.0 \n",
            " Accuracy for testing : 100.0\n",
            "\n",
            "\n",
            "confusion matrix for testing \n",
            " [[11595     0]\n",
            " [    0   172]]\n",
            "\n",
            "\n",
            "confusion matrix for training \n",
            " [[27066     0]\n",
            " [    0 27066]]\n",
            "\n",
            "\n",
            "classification_report testing \n",
            "               precision    recall  f1-score   support\n",
            "\n",
            "           0       1.00      1.00      1.00     11595\n",
            "           1       1.00      1.00      1.00       172\n",
            "\n",
            "    accuracy                           1.00     11767\n",
            "   macro avg       1.00      1.00      1.00     11767\n",
            "weighted avg       1.00      1.00      1.00     11767\n",
            "\n",
            "\n",
            "\n",
            "classification_report training \n",
            "               precision    recall  f1-score   support\n",
            "\n",
            "           0       1.00      1.00      1.00     27066\n",
            "           1       1.00      1.00      1.00     27066\n",
            "\n",
            "    accuracy                           1.00     54132\n",
            "   macro avg       1.00      1.00      1.00     54132\n",
            "weighted avg       1.00      1.00      1.00     54132\n",
            "\n",
            "\n",
            "\n",
            "bias is 0.30016146851363984 and the variance is 0.31834792215517976\n"
          ]
        }
      ],
      "source": [
        "# import the necessary libraries\n",
        "from sklearn.svm import SVC\n",
        "#from sklearn import metrics\n",
        "from sklearn import svm\n",
        "#SVM\n",
        "clf = svm.SVC()\n",
        "clf.fit(x_sm,y_sm)\n",
        "\n",
        "# predictions on the testing set\n",
        "y_svm = clf.predict(X_test)\n",
        "# predictions on the training set\n",
        "y_svm_train = clf.predict(x_sm)\n",
        "\n",
        "#accuracy\n",
        "acc_svm_train = (accuracy_score(y_sm, y_svm_train)*100) #training\n",
        "acc_svm = (accuracy_score(y_test, y_svm)*100) #testing\n",
        "\n",
        "print(\"Accuracy for training :\", acc_svm_train,'\\n',\"Accuracy for testing :\", acc_svm)\n",
        "print()\n",
        "print()\n",
        "\n",
        "#confusion matrix\n",
        "from sklearn.metrics import confusion_matrix\n",
        "#for testing\n",
        "cnf_matrix= confusion_matrix(y_test,y_svm)\n",
        "print('confusion matrix for testing','\\n',cnf_matrix)\n",
        "print()\n",
        "print()\n",
        "#for training\n",
        "cnf_matrix_train= confusion_matrix(y_sm,y_svm_train)\n",
        "print('confusion matrix for training','\\n',cnf_matrix_train)\n",
        "print()\n",
        "print()\n",
        "\n",
        "#classification_report testing\n",
        "print('classification_report testing','\\n',classification_report(y_test,y_svm))\n",
        "print()\n",
        "print()\n",
        "#classification_report training\n",
        "print('classification_report training','\\n',classification_report(y_sm,y_svm_train))\n",
        "\n",
        "print()\n",
        "print()\n",
        "# Calculate the bias\n",
        "bias = np.mean(y_sm - y_test)\n",
        "\n",
        "# Calculate the variance\n",
        "variance = np.mean((y_sm - y_test)**2)\n",
        "\n",
        "print(f\"bias is {bias} and the variance is {variance}\")"
      ]
    },
    {
      "cell_type": "markdown",
      "source": [
        "#svm using hyperparameter tunning"
      ],
      "metadata": {
        "id": "_Od5W8-_QErZ"
      }
    },
    {
      "cell_type": "code",
      "execution_count": null,
      "metadata": {
        "colab": {
          "background_save": true
        },
        "id": "w4rjXRcYVAI9",
        "outputId": "1735cc65-93ee-4902-e8ed-afb87b69639a"
      },
      "outputs": [
        {
          "name": "stdout",
          "output_type": "stream",
          "text": [
            "Accuracy: 1.0\n"
          ]
        }
      ],
      "source": [
        "# prompt: hyperparameter tunning for svm\n",
        "\n",
        "from sklearn.model_selection import GridSearchCV\n",
        "\n",
        "# Define the parameter grid\n",
        "param_grid = {\n",
        "    'C': [0.1, 1, 10, 100],\n",
        "    'gamma': [0.1, 0.01, 0.001, 0.0001],\n",
        "    'kernel': ['linear', 'poly', 'rbf', 'sigmoid']\n",
        "}\n",
        "\n",
        "# Create the GridSearchCV object\n",
        "grid_search = GridSearchCV(svm.SVC(), param_grid, cv=5)\n",
        "\n",
        "# Fit the model to the training data\n",
        "grid_search.fit(x_sm, y_sm)\n",
        "\n",
        "# Get the best parameters\n",
        "best_params = grid_search.best_params_\n",
        "\n",
        "# Get the best model\n",
        "best_model = grid_search.best_estimator_\n",
        "\n",
        "# Predict on the test data\n",
        "y_pred_svm = best_model.predict(X_test)\n",
        "\n",
        "# Evaluate the model\n",
        "accuracy = accuracy_score(y_test, y_pred_svm)\n",
        "print(\"Accuracy:\", accuracy)\n"
      ]
    },
    {
      "cell_type": "code",
      "source": [
        "best_params"
      ],
      "metadata": {
        "colab": {
          "base_uri": "https://localhost:8080/"
        },
        "id": "XkpsAEZcJY82",
        "outputId": "33bc5d25-e521-4ff6-8bcd-f8a5db8336f9"
      },
      "execution_count": null,
      "outputs": [
        {
          "output_type": "execute_result",
          "data": {
            "text/plain": [
              "{'C': 0.1, 'gamma': 0.1, 'kernel': 'linear'}"
            ]
          },
          "metadata": {},
          "execution_count": 44
        }
      ]
    },
    {
      "cell_type": "code",
      "source": [
        "# import the necessary libraries\n",
        "from sklearn.svm import SVC\n",
        "#from sklearn import metrics\n",
        "from sklearn import svm\n",
        "#SVM\n",
        "clf = svm.SVC( C= 0.1, gamma= 0.1, kernel= 'linear')\n",
        "clf.fit(x_sm,y_sm)\n",
        "\n",
        "# predictions on the testing set\n",
        "y_svm = clf.predict(X_test)\n",
        "# predictions on the training set\n",
        "y_svm_train = clf.predict(x_sm)\n",
        "\n",
        "#accuracy\n",
        "acc_svm_train = (accuracy_score(y_sm, y_svm_train)*100) #training\n",
        "acc_svm = (accuracy_score(y_test, y_svm)*100) #testing\n",
        "\n",
        "print(\"Accuracy for training :\", acc_svm_train,'\\n',\"Accuracy for testing :\", acc_svm)\n",
        "print()\n",
        "print()\n",
        "\n",
        "#confusion matrix\n",
        "from sklearn.metrics import confusion_matrix\n",
        "#for testing\n",
        "cnf_matrix= confusion_matrix(y_test,y_svm)\n",
        "print('confusion matrix for testing','\\n',cnf_matrix)\n",
        "print()\n",
        "print()\n",
        "#for training\n",
        "cnf_matrix_train= confusion_matrix(y_sm,y_svm_train)\n",
        "print('confusion matrix for training','\\n',cnf_matrix_train)\n",
        "print()\n",
        "print()\n",
        "\n",
        "#classification_report testing\n",
        "print('classification_report testing','\\n',classification_report(y_test,y_svm))\n",
        "print()\n",
        "print()\n",
        "#classification_report training\n",
        "print('classification_report training','\\n',classification_report(y_sm,y_svm_train))\n",
        "\n",
        "print()\n",
        "print()\n",
        "# Calculate the bias\n",
        "bias = np.mean(y_sm - y_test)\n",
        "\n",
        "# Calculate the variance\n",
        "variance = np.mean((y_sm - y_test)**2)\n",
        "\n",
        "print(f\"bias is {bias} and the variance is {variance}\")"
      ],
      "metadata": {
        "colab": {
          "base_uri": "https://localhost:8080/"
        },
        "id": "GnEnBHjcJiwo",
        "outputId": "50636ef0-4e08-47d5-a0c3-0d9f53d5e24a"
      },
      "execution_count": null,
      "outputs": [
        {
          "output_type": "stream",
          "name": "stdout",
          "text": [
            "Accuracy for training : 100.0 \n",
            " Accuracy for testing : 100.0\n",
            "\n",
            "\n",
            "confusion matrix for testing \n",
            " [[11595     0]\n",
            " [    0   172]]\n",
            "\n",
            "\n",
            "confusion matrix for training \n",
            " [[27066     0]\n",
            " [    0 27066]]\n",
            "\n",
            "\n",
            "classification_report testing \n",
            "               precision    recall  f1-score   support\n",
            "\n",
            "           0       1.00      1.00      1.00     11595\n",
            "           1       1.00      1.00      1.00       172\n",
            "\n",
            "    accuracy                           1.00     11767\n",
            "   macro avg       1.00      1.00      1.00     11767\n",
            "weighted avg       1.00      1.00      1.00     11767\n",
            "\n",
            "\n",
            "\n",
            "classification_report training \n",
            "               precision    recall  f1-score   support\n",
            "\n",
            "           0       1.00      1.00      1.00     27066\n",
            "           1       1.00      1.00      1.00     27066\n",
            "\n",
            "    accuracy                           1.00     54132\n",
            "   macro avg       1.00      1.00      1.00     54132\n",
            "weighted avg       1.00      1.00      1.00     54132\n",
            "\n",
            "\n",
            "\n",
            "bias is 0.30016146851363984 and the variance is 0.31834792215517976\n"
          ]
        }
      ]
    },
    {
      "cell_type": "markdown",
      "metadata": {
        "id": "TMNSzGVNg-QI"
      },
      "source": [
        "#Naive Bayes"
      ]
    },
    {
      "cell_type": "code",
      "execution_count": null,
      "metadata": {
        "id": "mRRIkkHvOMQb",
        "colab": {
          "base_uri": "https://localhost:8080/"
        },
        "outputId": "12180623-9743-40a5-ede3-698ed28b991f"
      },
      "outputs": [
        {
          "output_type": "stream",
          "name": "stdout",
          "text": [
            "Accuracy for training : 100.0 \n",
            " Accuracy for testing : 100.0\n",
            "\n",
            "\n",
            "confusion matrix for testing \n",
            " [[11595     0]\n",
            " [    0   172]]\n",
            "\n",
            "\n",
            "confusion matrix for training \n",
            " [[27066     0]\n",
            " [    0 27066]]\n",
            "\n",
            "\n",
            "classification_report testing \n",
            "               precision    recall  f1-score   support\n",
            "\n",
            "           0       1.00      1.00      1.00     11595\n",
            "           1       1.00      1.00      1.00       172\n",
            "\n",
            "    accuracy                           1.00     11767\n",
            "   macro avg       1.00      1.00      1.00     11767\n",
            "weighted avg       1.00      1.00      1.00     11767\n",
            "\n",
            "\n",
            "\n",
            "classification_report training \n",
            "               precision    recall  f1-score   support\n",
            "\n",
            "           0       1.00      1.00      1.00     27066\n",
            "           1       1.00      1.00      1.00     27066\n",
            "\n",
            "    accuracy                           1.00     54132\n",
            "   macro avg       1.00      1.00      1.00     54132\n",
            "weighted avg       1.00      1.00      1.00     54132\n",
            "\n",
            "\n",
            "\n",
            "bias is 0.0 and the variance is 0.0\n"
          ]
        }
      ],
      "source": [
        "# import the necessary libraries\n",
        "from sklearn.naive_bayes import GaussianNB\n",
        "\n",
        "#Naive Bayes\n",
        "model = GaussianNB()\n",
        "model.fit(x_sm, y_sm)\n",
        "\n",
        "# predictions on the testing set\n",
        "y_nb = model.predict(X_test)\n",
        "# predictions on the training set\n",
        "y_nb_train = model.predict(x_sm)\n",
        "\n",
        "#accuracy\n",
        "acc_nb_train = (accuracy_score(y_sm, y_nb_train)*100) #training\n",
        "acc_nb = (accuracy_score(y_test, y_nb)*100) #testing\n",
        "\n",
        "print(\"Accuracy for training :\", acc_svm_train,'\\n',\"Accuracy for testing :\", acc_nb)\n",
        "print()\n",
        "print()\n",
        "\n",
        "#confusion matrix\n",
        "from sklearn.metrics import confusion_matrix\n",
        "#for testing\n",
        "cnf_matrix= confusion_matrix(y_test,y_nb)\n",
        "print('confusion matrix for testing','\\n',cnf_matrix)\n",
        "print()\n",
        "print()\n",
        "#for training\n",
        "cnf_matrix_train= confusion_matrix(y_sm,y_nb_train)\n",
        "print('confusion matrix for training','\\n',cnf_matrix_train)\n",
        "print()\n",
        "print()\n",
        "\n",
        "#classification_report testing\n",
        "print('classification_report testing','\\n',classification_report(y_test,y_nb))\n",
        "print()\n",
        "print()\n",
        "#classification_report training\n",
        "print('classification_report training','\\n',classification_report(y_sm,y_nb_train))\n",
        "\n",
        "print()\n",
        "print()\n",
        "# Calculate the bias\n",
        "bias = np.mean(y_nb - y_test)\n",
        "\n",
        "# Calculate the variance\n",
        "variance = np.mean((y_nb - y_test)**2)\n",
        "\n",
        "print(f\"bias is {bias} and the variance is {variance}\")"
      ]
    },
    {
      "cell_type": "code",
      "execution_count": null,
      "metadata": {
        "id": "-ZvZcoiXOMTp"
      },
      "outputs": [],
      "source": []
    }
  ],
  "metadata": {
    "colab": {
      "provenance": []
    },
    "kernelspec": {
      "display_name": "Python 3",
      "name": "python3"
    },
    "language_info": {
      "name": "python"
    }
  },
  "nbformat": 4,
  "nbformat_minor": 0
}